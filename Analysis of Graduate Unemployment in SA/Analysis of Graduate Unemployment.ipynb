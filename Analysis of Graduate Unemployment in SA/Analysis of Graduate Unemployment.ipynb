{
 "cells": [
  {
   "cell_type": "code",
   "execution_count": null,
   "metadata": {
    "id": "4rT5LKzhsQlD"
   },
   "outputs": [],
   "source": [
    "#Collaboration with Caston, Davis and Karabo."
   ]
  },
  {
   "cell_type": "code",
   "execution_count": null,
   "metadata": {
    "colab": {
     "base_uri": "https://localhost:8080/"
    },
    "id": "WaI7kgPqZ4e1",
    "outputId": "9ef81aaf-b773-439d-ffd2-4009c92e9f9b"
   },
   "outputs": [
    {
     "name": "stderr",
     "output_type": "stream",
     "text": [
      "/usr/local/lib/python3.7/dist-packages/statsmodels/tools/_testing.py:19: FutureWarning: pandas.util.testing is deprecated. Use the functions in the public API at pandas.testing instead.\n",
      "  import pandas.util.testing as tm\n"
     ]
    }
   ],
   "source": [
    "import pandas as pd\n",
    "import numpy as np\n",
    "import io\n",
    "import requests\n",
    "import seaborn as sns\n",
    "import matplotlib.pyplot as plt\n",
    "sns.set_theme(style=\"ticks\", color_codes=True)\n",
    "%matplotlib inline\n",
    "import matplotlib.pyplot as plt\n",
    "import scipy\n",
    "import statsmodels.formula.api as smf\n",
    "import statsmodels.api as sm"
   ]
  },
  {
   "cell_type": "markdown",
   "metadata": {
    "id": "Pc0OzZVq0AdR"
   },
   "source": [
    "# **Predictive and modelling analysis of graduate unemployment in South Africa**\n",
    "---\n",
    "\n"
   ]
  },
  {
   "cell_type": "markdown",
   "metadata": {
    "id": "mQOgbCrpkNs8"
   },
   "source": [
    "# **Table of Contents**\n",
    "\n",
    "* [Executive Summary](#exec)\n",
    "\n",
    "* [Introduction](#intro)\n",
    "\n",
    "* [Overview of Methodology](#om)\n",
    "\n",
    "* [Data Description](#dd)\n",
    "\n",
    "* [Data Wrangling](#dw)\n",
    "\n",
    "* [Exploratory Analyses](#ea)\n",
    "\n",
    "* [Model Fitting](#mf)\n",
    "\n",
    "  * [Logistic Regression - Model 1](#m1)\n",
    "\n",
    "  * [Logistic Regression - Model 2](#m2)\n",
    "\n",
    "  * [Logistic Regression - Model 3](#m3)\n",
    "\n",
    "  * [Logistic Regression - Model 4](#m4)\n"
   ]
  },
  {
   "cell_type": "markdown",
   "metadata": {
    "id": "FIpu5Iyh16Ga"
   },
   "source": [
    "<a name=\"exec\"></a>\n",
    "# **Executive Summary**\n",
    "The scourge of unemployment in South Africa is heavily skewed towards the youth and the educated youths are not spared. In this notebook, we investigated the factors that contribute to the high number of unemployed graduates and also predicted whether a graduate will be employed or not. \n",
    "\n",
    "To investigate the issue, we collected data from Statistics South Africa (StatsSA), cleaned it, performed exploratory analysis and developed the model. It was confirmed in the exploration analysis that graduates belonging to the white population group and those from the Western Cape province have the highest employment rate.\n",
    "\n",
    "The model determined the key factors and their weights that contribute to graduate unemployment and to be able to predict unemployment among the youths that have a tertiary education. \n",
    "\n",
    "The main results indicated that there is a correlation between unemployment and study choices and demographics. It was also evident that advancing levels of educations does significantly reduce the chances of graduate unemployment. Ensuring that more students choose studies aligned to the identified critical skills can play a major factor in reducing youth unemployment. However, there are still disparities among the different provinces with regards to youth unemployment.\n",
    "\n",
    "Due to the fact there was a lot of missing data that we could not fill, we were limited to a smaller sample.\n",
    "\n",
    "\n"
   ]
  },
  {
   "cell_type": "markdown",
   "metadata": {
    "id": "virM98XXrQJK"
   },
   "source": [
    "<a name='intro'></a>\n",
    "# **Introduction**\n",
    "South Africa has a high youth unemployment rate even among those that have acquired skills resulting in the youths not fully participating in the economy. Young people are not acquiring the skills/experience required to drive the economy forward, which creates a burden to the state as it would have to provide social assistance. It also creates other social costs such crime, poverty, inequality and political/economic instability.\n",
    "\n",
    "The number of graduate unemployment cases in South Africa raises daily. Among graduates in the 15-24 age group, the unemployment rate was 31.0% in the 1st quarter of 2019 compared to 19.5% in the 4th quarter of 2018 – an increase of 11.4 percentage-points quarter-on-quarter. Why is that the case when employment should be a major driver in eradicating poverty?\n",
    "\n",
    "**Question 1:** What are the main factors affecting youth unemployment in South Africa?\n",
    "* **Hypothesis:** There is a correlation between graduate unemployment in South Africa and various study choices and demographics.\n",
    "\n",
    "**Question 2**<br>\n",
    "  **Question 2.1:** Do study choices affect the chances of graduate youth employment?\n",
    "\n",
    "  **Question 2.2:** Is there an inadequate proportion of education studies that correspond to the critical skills list of South Africa versus those that are not? Could that be related to the high number of unemployed youth?\n",
    "  * **Hypothesis:** Graduates that are unemployed studied courses that are not related to critical skills and acquired the lowest NQF level.\n",
    "\n",
    "**Question 3:** What are the effects of proceeding with your education on employment? \n",
    "  * **Hypothesis:** A graduate with a higher national qualification framework (NQF) level is less likely to be unemployed.\n",
    "\n",
    "**Question 4:** In which area are graduates more likely to be employed?\n",
    "  * **Hypothesis:** Graduates staying in certain provinces have higher chances of employment.\n"
   ]
  },
  {
   "cell_type": "markdown",
   "metadata": {
    "id": "ytUs9bmV1fdr"
   },
   "source": [
    "<a name='om'></a>\n",
    "# **Overview of Methodology**\n",
    "The research questions aimed to infer what was true, on average, for the graduate youths population in the South African labour market from the analysis we performed from the representative sample.<br/>\n",
    "\n",
    "We identified problems with the data, and conducted initial analyses to further refine the questions. We performed data preparation, data visualisation and calculating summary statistics.\n",
    "<br/>\n",
    "\n",
    "We built four (4) models for each subset of questions. For each model, we defined the initial model, which interactively refitted based on the evaluations performed. We evaluated the models by performance measures particularly the Psuedo R-squared, residual analysis, and outlier detection. We then tested the best models using a test dataset.\n",
    "\n",
    "\n",
    "We created a regression model using machine learning to predict whether a graduate will be employed or not given census data for registered students. This model could be used for the following:\n",
    "*   Advise students on how they can improve their choices before they can enrol for their tertiary education.\n",
    "*   Government and Tertiary institutions can use this model for academic planning.<br/>\n",
    "\n",
    "We explained the results of the model building and interpreted them in comparison to previous knowledge and expectations.<br/>\n",
    "\n",
    "We compiled a report with a high degree of detail which will be useful to students, academic planners and government economic and higher tertiary planners."
   ]
  },
  {
   "cell_type": "markdown",
   "metadata": {
    "id": "T-MMRQn5yAet"
   },
   "source": [
    "<a name='dd'></a>\n",
    "# **DataSet Description**\n",
    "\n",
    "StatsSA used Computer-assisted Telephone Interviewing to collect the data during the quarter four period of year 2020. The collection method changed from door-to-door survey method to telephonic survey method. However, we assume that the change in the mode of data collection won't have an effect in answering the question. For this project we obtained data from the Statistics South Africa (StatsSA) that was downloaded on the 17/03/21. The full description of the Quarterly Labour Force Survey (4th Quarter 2020) dataset is on the StatsSa website: http://nesstar.statssa.gov.za:8282/webview/. The dataset size was 48 990 rows X 161 columns.\n",
    "\n",
    "Below are census variables we were concerned with in this project:<br/>\n",
    "Gender, population, Highest education level, study field, education level, age, province, Geography Type, metro/non-metro and employment status.\n",
    "<a name='province'></a>\n",
    "##### **Province**\n",
    "The province where the respondent resides. The values are as follows:\n",
    "\n",
    "1 - Western Cape<br/>\n",
    "2 - Eastern Cape<br/>\n",
    "3 - Northern Cape<br/>\n",
    "4 - Free State<br/>\n",
    "5 - KwaZulu-Natal<br/>\n",
    "6 - North West<br/>\n",
    "7 - Gauteng<br/>\n",
    "8 - Mpumalanga<br/>\n",
    "9 - Limpopo<br/>\n",
    "\n",
    "##### **Gender** (Q13GENDER)\n",
    "The gender of the respondent\n",
    "\n",
    "1 - Male<br/>\n",
    "2 - Female<br/>\n",
    "\n",
    "##### **Age** (Q14AGE)\n",
    "The age of the respondent\n",
    "<a name='study'></a>\n",
    "##### **Study field** (Q18FIELD)\n",
    "This variable applies to respondets that have obtained a post-school qualification. This indicates the field in which the post-school qualification was obtained.\n",
    "\n",
    "1 - Agriculture or Renewable natural resources-1<br/>\n",
    "2 - Architecture or environmental design-1<br/>\n",
    "3 - Arts; Visual or Performing-0<br/>\n",
    "4 - Business; commerce and management studies-1<br/>\n",
    "5 - Communication-1<br/>\n",
    "6 - Computer science-1<br/>\n",
    "7 - Education; training or development-1<br/>\n",
    "8 - Engineering or engineering technology-1<br/>\n",
    "9 - Health care or health sciences-1<br/>\n",
    "10 - Home economics-0<br/>\n",
    "11 - Industrial arts; traders or technology-0<br/>\n",
    "12 - Languages; linguistic or literature-0<br/>\n",
    "13 - Law-0<br/>\n",
    "14 - Libraries or museums-0<br/>\n",
    "15 - Life sciences or physical sciences-1<br/>\n",
    "16 - Mathematical sciences-1<br/>\n",
    "17 - Military sciences-1<br/>\n",
    "18 - Philosophy; religion or theology-0<br/>\n",
    "19 - Physical education or leisure-0<br/>\n",
    "20 - Psychology-0<br/>\n",
    "21 - Public administration or social services-0<br/>\n",
    "22 - Social sciences or social studies-0<br/>\n",
    "23 - Othe-0r<br/>\n",
    "24 - Management-1<br/>\n",
    "25 - Marketing-1<br/>\n",
    "26 - Information technology and computer science-1<br/>\n",
    "27 - Finance; economics and accounting-1<br/>\n",
    "28 - Office administration-0<br/>\n",
    "29 - Electrical infrastructure construction-1<br/>\n",
    "30 - Civil engineering and building construction-1<br/>\n",
    "31 - Engineering-1<br/>\n",
    "32 - Primary agriculture-1<br/>\n",
    "33 - Hospitality-0<br/>\n",
    "34 - Tourism-0<br/>\n",
    "35 - Safety in society-0<br/>\n",
    "36 - Mechatronics-1<br/>\n",
    "37 - Education and development-1<br/>\n",
    "38 - Other-0 <br/>\n",
    "\n",
    "<a name='highest_edu'></a>\n",
    "##### **Highest education level** (Q17EDUCATION)\n",
    "This variable signifies the highest qualification the correspont has already acquired.\n",
    "\n",
    "14 - NTC l/N1/NIC/(v) Level 2<br/>\n",
    "15 - NTC II/N2/NIC/(v) Level 3<br/>\n",
    "16 - NTC III/N3/NIC/(v) Level 4<br/>\n",
    "17 - N4/NTC 4<br/> \n",
    "18 - N5/NTC 5<br/>\n",
    "19 - N6/NTC 6<br/>\n",
    "20 - Certificate with less than Grade 12/Std 10<br/>\n",
    "21 - Diploma with less than Grade 12/Std 10<br/>\n",
    "22 - Certificate with Grade 12/Std 10<br/>\n",
    "23 - Diploma with Grade 12/Std 10<br/>\n",
    "24 - Higher Diploma<br/>\n",
    "25 - Post Higher Diploma (Masters; Doctoral Diploma)<br/>\n",
    "26 - Bachelors Degree<br/>\n",
    "27 - Bachelors Degree and Post Graduate Diploma<br/>\n",
    "28 - Honours Degree<br/>\n",
    "29 - Higher Degree (Masters/Phd)<br/>\n",
    "\n",
    "##### **Population group** (Q15POPULATION)\n",
    "The population group signify the race of the person.\n",
    "\n",
    "1 - African/Black<br/>\n",
    "2 - Coloured<br/>\n",
    "3 - Indian/Asian<br/>\n",
    "4 - White<br/>\n",
    "\n",
    "##### **Geography Type** (Geo_type_code)\n",
    "The type of geography of the area in which the respondent lives\n",
    "\n",
    "1 - Urban<br/>\n",
    "2 - Traditional<br/>\n",
    "3 - Farms<br/>\n",
    "\n",
    "<a name='metro_code'></a>\n",
    "##### **Metro/Non-Metro** (Metro_code)\n",
    "\n",
    "1 - WC - Non Metro<br/>\n",
    "2 - WC - City of Cape Town<br/>\n",
    "3 - EC - Non Metro<br/>\n",
    "4 - EC - Buffalo City<br/> \n",
    "5 - EC - Nelson Mandela Bay<br/>\n",
    "6 - NC - Non Metro<br/>\n",
    "7 - FS - Non Metro<br/> \n",
    "8 - FS - Mangaung<br/>\n",
    "9 - KZN - Non Metro<br/> \n",
    "10 - KZN - eThekwini<br/> \n",
    "11 - NW - Non Metro<br/> \n",
    "12 - GP - Non Metro<br/>\n",
    "13 - GP - Ekurhuleni<br/> \n",
    "14 - GP - City of Johannesburg<br/> \n",
    "15 - GP - City of Tshwane<br/> \n",
    "16 - MP - Non Metro<br/>\n",
    "17 - LP - Non Metro<br/>\n",
    "\n",
    "#### **Employment Status Expanded** (Status_exp)\n",
    "1 - Employed<br/>\n",
    "2 - Unemployed<br/>\n",
    "4 - Not economically active<br/>\n",
    "\n",
    "\n"
   ]
  },
  {
   "cell_type": "markdown",
   "metadata": {
    "id": "ykhsjMbQCZu6"
   },
   "source": [
    "#### **Data Validation**\n",
    "https://www.statista.com/statistics/1116076/total-population-of-south-africa-by-population-group/\n",
    "https://www.statista.com/statistics/967928/total-population-of-south-africa-by-gender/\n",
    "\n",
    "*   **Race ratios:** The sample race ratios normalised to 100 are such that for every 100 people, there are 85 Blacks, 8 Coloureds, 5 Indian/Asians and 2 Whites. The latest South African population ratios as per the latest census data are such that for every 100 people, there are 81 Blacks, 9 Coloureds, 2 Indians/Asians and 8 Whites. The sample race demographics are closer to the population ratios, although there is a slight mismatch for the Whites as they are underrepresented.     \n",
    "\n",
    "*   **Gender ratios** The sample race ratios normalised to 100 are such that for every 100 people, there are 53 Females and 47 Males. The latest South African population ratios as per the latest census data are such that for every 100 people, there are 51 Females versus 49 Males. The sample gender demographics are closer to the population ratios. \n",
    "\n"
   ]
  },
  {
   "cell_type": "markdown",
   "metadata": {
    "id": "SDU_heGI42CL"
   },
   "source": [
    "#### **Aspects of Data Quality**\n",
    "\n",
    "*   **Validity / Integrity:** To check the integrity of the data, we inspected the Age values and noted that the minimum age was 15 and the maximum age was 95. This age range looked normal considering that the mean age came to 41 years, which is a normal working age.\n",
    "\n",
    "*   **Completeness / Comprehensiveness:** All of the fields mentioned above needed to be populated for us to be able to have insight in terms of which factors affect employement amongst the graduates. We therefore dropped any data with missing data. Records with missing data were excluded as there was no other way intrepolate them.\n",
    "\n",
    "*   **Consistency:** All records have the same format and will contain the same selected fields.\n",
    "\n",
    "*   **Accuracy:** We compared the ratios of the sample data demographics against census data. The ratios were within a reasonable range.  \n",
    "\n",
    "*   **Uniformity:** We noted that the data conformed to the codes that were used in the capturing of the data. Except for the NULL values, we checked for any values that were not in the set of the data codes and no such data was picked.\n",
    "\n",
    "\n"
   ]
  },
  {
   "cell_type": "markdown",
   "metadata": {
    "id": "ZaCsbNLqVZrC"
   },
   "source": [
    "#### **Ability to Answer Question**\n",
    "* We only selected data for the youth age group because we were interested in understanding the factors affecting youth employment.\n",
    "* We also only selected samples where the user has at least completed a qualification above matric. We assumed that with an education, one must not be unemployed."
   ]
  },
  {
   "cell_type": "markdown",
   "metadata": {
    "id": "-14rsiHUeckz"
   },
   "source": [
    "<a name='dw'></a>\n",
    "# **Data Wrangling**"
   ]
  },
  {
   "cell_type": "markdown",
   "metadata": {
    "id": "vUz1ghUH5Xis"
   },
   "source": [
    "### **Data ingestion**\n",
    "We downloaded the data set from the StatsSA datasets and stored it on our github account were we ingested it from."
   ]
  },
  {
   "cell_type": "code",
   "execution_count": null,
   "metadata": {
    "id": "tpYOJ-Iaekl-"
   },
   "outputs": [],
   "source": [
    "url1=\"https://raw.githubusercontent.com/davis-hub/Collab-dataset/main/QLFS-2020-01_F2.csv\"\n",
    "url2=\"https://raw.githubusercontent.com/davis-hub/Collab-dataset/main/QLFS-2020-02_F1.csv\"\n",
    "url3=\"https://raw.githubusercontent.com/davis-hub/Collab-dataset/main/QLFS-2020-03_F1.csv\"\n",
    "url4=\"https://raw.githubusercontent.com/davis-hub/Collab-dataset/main/QLFS-2020-04_F1.csv\"\n",
    "s1=requests.get(url1).content\n",
    "s2=requests.get(url2).content\n",
    "s3=requests.get(url3).content\n",
    "s4=requests.get(url4).content\n",
    "original_data1 = pd.read_csv(io.StringIO(s1.decode('utf-8')))\n",
    "original_data2 = pd.read_csv(io.StringIO(s2.decode('utf-8')))\n",
    "original_data3 = pd.read_csv(io.StringIO(s3.decode('utf-8')))\n",
    "original_data4 = pd.read_csv(io.StringIO(s4.decode('utf-8')))"
   ]
  },
  {
   "cell_type": "markdown",
   "metadata": {
    "id": "TVBAyd8mf3NX"
   },
   "source": [
    "### **Data Cleaning & Data Comparison (Raw vs Cleaned)**\n",
    "* We concatenated all the four (4) datasets for each quarter into one dataset.\n",
    "* Dropping null values: We couldn't recover the missing values using the data from the other columns e.g. we couldn't create lookup tables or guess if someone is male or female from the other variables, etc, so we dropped all the null values.\n",
    "* The data dropped from 209 917 records to 18 023 records after we removed the felds with null values. \n",
    "* We are assuming that the large data set dropped due to missing values won't affect the distribution of the variables.\n",
    "* We further dropped duplicates and the records dropped further to 13 183 "
   ]
  },
  {
   "cell_type": "code",
   "execution_count": null,
   "metadata": {
    "id": "UrP-DHFxvCyI"
   },
   "outputs": [],
   "source": [
    "#joining the 4 datasets\n",
    "original_data = pd.concat([original_data1, original_data2, original_data3, original_data4])\n",
    "\n",
    "#drop nan values\n",
    "data = original_data[['Q13GENDER','Q15POPULATION','Q17EDUCATION','Q18FIELD','Q14AGE','Metro_code',\n",
    "                      'Province','Geo_type_code','Status_exp']].dropna()\n",
    "\n",
    "#checking for duplicates\n",
    "data.drop_duplicates(keep='last', inplace=True)"
   ]
  },
  {
   "cell_type": "code",
   "execution_count": null,
   "metadata": {
    "colab": {
     "base_uri": "https://localhost:8080/"
    },
    "id": "KJ3HG1zE-tIS",
    "outputId": "6e6c2462-35bc-41d1-a966-d528df7e0606"
   },
   "outputs": [
    {
     "name": "stdout",
     "output_type": "stream",
     "text": [
      "<class 'pandas.core.frame.DataFrame'>\n",
      "Int64Index: 13183 entries, 16 to 48982\n",
      "Data columns (total 9 columns):\n",
      " #   Column         Non-Null Count  Dtype  \n",
      "---  ------         --------------  -----  \n",
      " 0   Q13GENDER      13183 non-null  int64  \n",
      " 1   Q15POPULATION  13183 non-null  int64  \n",
      " 2   Q17EDUCATION   13183 non-null  int64  \n",
      " 3   Q18FIELD       13183 non-null  float64\n",
      " 4   Q14AGE         13183 non-null  int64  \n",
      " 5   Metro_code     13183 non-null  int64  \n",
      " 6   Province       13183 non-null  int64  \n",
      " 7   Geo_type_code  13183 non-null  int64  \n",
      " 8   Status_exp     13183 non-null  float64\n",
      "dtypes: float64(2), int64(7)\n",
      "memory usage: 1.0 MB\n"
     ]
    }
   ],
   "source": [
    "data.info()"
   ]
  },
  {
   "cell_type": "markdown",
   "metadata": {
    "id": "WW6V77uQ-wr1"
   },
   "source": [
    "Changing all the float values to integer for consistency."
   ]
  },
  {
   "cell_type": "code",
   "execution_count": null,
   "metadata": {
    "colab": {
     "base_uri": "https://localhost:8080/"
    },
    "id": "0DkGw_-i90-R",
    "outputId": "a9ba2ec1-5ce6-48eb-f06e-5e25d89a6e29"
   },
   "outputs": [
    {
     "name": "stdout",
     "output_type": "stream",
     "text": [
      "<class 'pandas.core.frame.DataFrame'>\n",
      "Int64Index: 13183 entries, 16 to 48982\n",
      "Data columns (total 9 columns):\n",
      " #   Column         Non-Null Count  Dtype\n",
      "---  ------         --------------  -----\n",
      " 0   Q13GENDER      13183 non-null  int64\n",
      " 1   Q15POPULATION  13183 non-null  int64\n",
      " 2   Q17EDUCATION   13183 non-null  int64\n",
      " 3   Q18FIELD       13183 non-null  int64\n",
      " 4   Q14AGE         13183 non-null  int64\n",
      " 5   Metro_code     13183 non-null  int64\n",
      " 6   Province       13183 non-null  int64\n",
      " 7   Geo_type_code  13183 non-null  int64\n",
      " 8   Status_exp     13183 non-null  int64\n",
      "dtypes: int64(9)\n",
      "memory usage: 1.0 MB\n"
     ]
    }
   ],
   "source": [
    "data['Q18FIELD'] = data['Q18FIELD'].astype('int')\n",
    "data['Status_exp'] = data['Status_exp'].astype('int')\n",
    "data.info()"
   ]
  },
  {
   "cell_type": "markdown",
   "metadata": {
    "id": "qp5aap3Cf80G"
   },
   "source": [
    "- **Selecting data of corncern:** In this project we only worked with people in the age of 19 to 35 as they consitute the youth age group. We also selected those that have tertiary qualification as they are the ones considered youth graduates.\n",
    "- This further reduced the number of the rows from 13 183 to 5 289. "
   ]
  },
  {
   "cell_type": "code",
   "execution_count": null,
   "metadata": {
    "colab": {
     "base_uri": "https://localhost:8080/"
    },
    "id": "PeAUXvS-u1Zc",
    "outputId": "471bc1f8-919e-43d6-d261-dee049d19690"
   },
   "outputs": [
    {
     "name": "stdout",
     "output_type": "stream",
     "text": [
      "<class 'pandas.core.frame.DataFrame'>\n",
      "Int64Index: 5289 entries, 104 to 48982\n",
      "Data columns (total 9 columns):\n",
      " #   Column         Non-Null Count  Dtype\n",
      "---  ------         --------------  -----\n",
      " 0   Q13GENDER      5289 non-null   int64\n",
      " 1   Q15POPULATION  5289 non-null   int64\n",
      " 2   Q17EDUCATION   5289 non-null   int64\n",
      " 3   Q18FIELD       5289 non-null   int64\n",
      " 4   Q14AGE         5289 non-null   int64\n",
      " 5   Metro_code     5289 non-null   int64\n",
      " 6   Province       5289 non-null   int64\n",
      " 7   Geo_type_code  5289 non-null   int64\n",
      " 8   Status_exp     5289 non-null   int64\n",
      "dtypes: int64(9)\n",
      "memory usage: 413.2 KB\n"
     ]
    }
   ],
   "source": [
    "youth = data[(data.Q14AGE>18)&(data.Q14AGE<36)&(data.Q17EDUCATION>13)&(data.Q17EDUCATION<30)].copy()\n",
    "youth.info()"
   ]
  },
  {
   "cell_type": "markdown",
   "metadata": {
    "id": "f83XjY0NvPdH"
   },
   "source": [
    "- We changed data types from integers to categorical data type to match the data encoding except for the age variable.\n"
   ]
  },
  {
   "cell_type": "code",
   "execution_count": null,
   "metadata": {
    "colab": {
     "base_uri": "https://localhost:8080/",
     "height": 204
    },
    "id": "AC7yZCWX0Kyu",
    "outputId": "758b6a4f-ffc5-480d-f953-54a502b67862"
   },
   "outputs": [
    {
     "data": {
      "text/html": [
       "<div>\n",
       "<style scoped>\n",
       "    .dataframe tbody tr th:only-of-type {\n",
       "        vertical-align: middle;\n",
       "    }\n",
       "\n",
       "    .dataframe tbody tr th {\n",
       "        vertical-align: top;\n",
       "    }\n",
       "\n",
       "    .dataframe thead th {\n",
       "        text-align: right;\n",
       "    }\n",
       "</style>\n",
       "<table border=\"1\" class=\"dataframe\">\n",
       "  <thead>\n",
       "    <tr style=\"text-align: right;\">\n",
       "      <th></th>\n",
       "      <th>Q13GENDER</th>\n",
       "      <th>Q15POPULATION</th>\n",
       "      <th>Q17EDUCATION</th>\n",
       "      <th>Q18FIELD</th>\n",
       "      <th>Q14AGE</th>\n",
       "      <th>Metro_code</th>\n",
       "      <th>Province</th>\n",
       "      <th>Geo_type_code</th>\n",
       "      <th>Status_exp</th>\n",
       "    </tr>\n",
       "  </thead>\n",
       "  <tbody>\n",
       "    <tr>\n",
       "      <th>48881</th>\n",
       "      <td>1</td>\n",
       "      <td>1</td>\n",
       "      <td>15</td>\n",
       "      <td>38</td>\n",
       "      <td>35</td>\n",
       "      <td>17</td>\n",
       "      <td>9</td>\n",
       "      <td>2</td>\n",
       "      <td>1</td>\n",
       "    </tr>\n",
       "    <tr>\n",
       "      <th>48953</th>\n",
       "      <td>1</td>\n",
       "      <td>1</td>\n",
       "      <td>15</td>\n",
       "      <td>31</td>\n",
       "      <td>35</td>\n",
       "      <td>17</td>\n",
       "      <td>9</td>\n",
       "      <td>2</td>\n",
       "      <td>1</td>\n",
       "    </tr>\n",
       "    <tr>\n",
       "      <th>48955</th>\n",
       "      <td>2</td>\n",
       "      <td>1</td>\n",
       "      <td>19</td>\n",
       "      <td>28</td>\n",
       "      <td>35</td>\n",
       "      <td>17</td>\n",
       "      <td>9</td>\n",
       "      <td>2</td>\n",
       "      <td>1</td>\n",
       "    </tr>\n",
       "    <tr>\n",
       "      <th>48981</th>\n",
       "      <td>1</td>\n",
       "      <td>1</td>\n",
       "      <td>23</td>\n",
       "      <td>8</td>\n",
       "      <td>34</td>\n",
       "      <td>17</td>\n",
       "      <td>9</td>\n",
       "      <td>2</td>\n",
       "      <td>1</td>\n",
       "    </tr>\n",
       "    <tr>\n",
       "      <th>48982</th>\n",
       "      <td>2</td>\n",
       "      <td>1</td>\n",
       "      <td>23</td>\n",
       "      <td>9</td>\n",
       "      <td>29</td>\n",
       "      <td>17</td>\n",
       "      <td>9</td>\n",
       "      <td>2</td>\n",
       "      <td>1</td>\n",
       "    </tr>\n",
       "  </tbody>\n",
       "</table>\n",
       "</div>"
      ],
      "text/plain": [
       "      Q13GENDER Q15POPULATION Q17EDUCATION  ... Province  Geo_type_code Status_exp\n",
       "48881         1             1           15  ...        9              2          1\n",
       "48953         1             1           15  ...        9              2          1\n",
       "48955         2             1           19  ...        9              2          1\n",
       "48981         1             1           23  ...        9              2          1\n",
       "48982         2             1           23  ...        9              2          1\n",
       "\n",
       "[5 rows x 9 columns]"
      ]
     },
     "execution_count": 8,
     "metadata": {
      "tags": []
     },
     "output_type": "execute_result"
    }
   ],
   "source": [
    "youth.Q18FIELD = pd.Categorical(youth.Q18FIELD, categories=[ 1,  2,  3,  4,  5,  6,  7,  8,  9, 10, 11, 12, 13, 14, 15, 16, 17,\n",
    "       18, 19, 20, 21, 22, 23, 24, 25, 26, 27, 28, 29, 30, 31, 32, 33, 34,\n",
    "       35, 36, 37, 38], ordered=True)\n",
    "youth.Q13GENDER = pd.Categorical(youth.Q13GENDER, categories=[1,2], ordered=True)\n",
    "youth.Q15POPULATION = pd.Categorical(youth.Q15POPULATION, categories=[1,2,3,4], ordered=True)\n",
    "youth.Q17EDUCATION = pd.Categorical(youth.Q17EDUCATION, categories=[14, 15, 16, 17, 18, 19, 20, 21, 22, 23, 24, 25, 26, 27, 28, 29], ordered=True)\n",
    "youth.Metro_code = pd.Categorical(youth.Metro_code, categories=[ 1,  2,  3,  4,  5,  6,  7,  8,  9, 10, 11, 12, 13, 14, 15, 16, 17], ordered=True)\n",
    "youth.Province\t = pd.Categorical(youth.Province\t, categories=[1, 2, 3, 4, 5, 6, 7, 8, 9], ordered=True)\n",
    "youth.Geo_type_code = pd.Categorical(youth.Geo_type_code, categories=[1,2,3], ordered=True)\n",
    "youth.Status_exp = pd.Categorical(youth.Status_exp, categories=[1,2,4], ordered=False)\n",
    "youth.tail()"
   ]
  },
  {
   "cell_type": "markdown",
   "metadata": {
    "id": "9O8M8Sxl2IVk"
   },
   "source": [
    "<a name='ea'></a>\n",
    "# **Exploratory Analyses**"
   ]
  },
  {
   "cell_type": "markdown",
   "metadata": {
    "id": "hfYMtyzmeUbF"
   },
   "source": [
    "#### **Age vs Employement Status**"
   ]
  },
  {
   "cell_type": "markdown",
   "metadata": {
    "id": "eeaK1A78TRqS"
   },
   "source": [
    "- In the plot below, the average age of  an employed youth is 30 years and the average  of an unemployed youth 27 years.  \n",
    "- At an average age of  25 years, the  youths will not be actively looking for work. \n",
    "- It seems that chances of employement are higher as you grow older."
   ]
  },
  {
   "cell_type": "code",
   "execution_count": null,
   "metadata": {
    "colab": {
     "base_uri": "https://localhost:8080/"
    },
    "id": "Nvn3rzJusQPW",
    "outputId": "890e5a1a-b321-4b84-fae4-57bed77115c4"
   },
   "outputs": [
    {
     "data": {
      "image/png": "[encoded data removed]",
      "text/plain": [
       "<Figure size 576x576 with 1 Axes>"
      ]
     },
     "metadata": {
      "needs_background": "light",
      "tags": []
     },
     "output_type": "display_data"
    }
   ],
   "source": [
    "rp = sns.catplot(x=\"Status_exp\", y=\"Q14AGE\", kind=\"box\", data=youth, height=8, aspect=1);\n",
    "rp.fig.suptitle('Age vs Employement Status');"
   ]
  },
  {
   "cell_type": "markdown",
   "metadata": {
    "id": "QSMG38083hX3"
   },
   "source": [
    "#### **Age vs Employement Status per Gender**"
   ]
  },
  {
   "cell_type": "markdown",
   "metadata": {
    "id": "nFZbQNF6TaLP"
   },
   "source": [
    "- The average age of employed graduate is 30  years for both young graduate females (2) and males (1).  \n",
    "- Also, the average age of an unemployed youth is 27 years for both young women men."
   ]
  },
  {
   "cell_type": "code",
   "execution_count": null,
   "metadata": {
    "colab": {
     "base_uri": "https://localhost:8080/"
    },
    "id": "d_YzAYXVTm8Y",
    "outputId": "314bb7aa-a1d1-4843-ebb0-28ee5df7e2fd"
   },
   "outputs": [
    {
     "data": {
      "image/png": "[encoded data removed]",
      "text/plain": [
       "<Figure size 660.05x576 with 1 Axes>"
      ]
     },
     "metadata": {
      "needs_background": "light",
      "tags": []
     },
     "output_type": "display_data"
    }
   ],
   "source": [
    "rp = sns.catplot(x=\"Status_exp\", y=\"Q14AGE\", kind=\"box\", data=youth, hue='Q13GENDER', height=8, aspect=1);\n",
    "rp.fig.suptitle('Age vs Employement Status per Gender');"
   ]
  },
  {
   "cell_type": "markdown",
   "metadata": {
    "id": "C3scBpQdev0E"
   },
   "source": [
    "#### **Employement Status per Province**"
   ]
  },
  {
   "cell_type": "markdown",
   "metadata": {
    "id": "fuLb-bcWd8Qn"
   },
   "source": [
    "- Western Cape (1) and Northern Cape (3) have a very good proportion of young graduates that are employed versus the unemployed graduates. \n",
    "- Gauteng (7) province has a marginal proportion while the rest have poor proportions of young graduates that are employed. \n",
    "- Limpopo (9) has the worst employment rate as it has more unemployed youth graduates than employed.\n",
    "- Graduates have a better chance of being employed in the Western and Northern Cape compared to all other provinces."
   ]
  },
  {
   "cell_type": "code",
   "execution_count": null,
   "metadata": {
    "colab": {
     "base_uri": "https://localhost:8080/"
    },
    "id": "rbBMajfqI7mi",
    "outputId": "17c873b5-9000-4a15-c31f-c49fdda81db9"
   },
   "outputs": [
    {
     "data": {
      "image/png": "[encoded data removed]",
      "text/plain": [
       "<Figure size 1440x720 with 1 Axes>"
      ]
     },
     "metadata": {
      "needs_background": "light",
      "tags": []
     },
     "output_type": "display_data"
    }
   ],
   "source": [
    "fi, ax = plt.subplots(figsize=(20,10))\n",
    "sns.histplot(ax=ax, data=youth, x = 'Province', hue=\"Status_exp\");\n",
    "ax.set_title(\"Employement status per Province\");\n",
    "ax.set_xlim(0,10);\n",
    "ax.set_xticks(range(0,10));"
   ]
  },
  {
   "cell_type": "markdown",
   "metadata": {
    "id": "5ANW7Aa1-mR0"
   },
   "source": [
    "#### **Employment Status per Metro/Non-metro**"
   ]
  },
  {
   "cell_type": "markdown",
   "metadata": {
    "id": "PftIPAON-zGg"
   },
   "source": [
    "- The employment rate in Metros is better than in non-metros (*compare adjacent bars e.g. 1 & 2, 3 & 4 and so on*)."
   ]
  },
  {
   "cell_type": "code",
   "execution_count": null,
   "metadata": {
    "colab": {
     "base_uri": "https://localhost:8080/"
    },
    "id": "tQi2MqPP0OqP",
    "outputId": "6bb76754-180e-4495-d98e-5d8f5fddd771"
   },
   "outputs": [
    {
     "data": {
      "image/png": "[encoded data removed]",
      "text/plain": [
       "<Figure size 1440x720 with 1 Axes>"
      ]
     },
     "metadata": {
      "needs_background": "light",
      "tags": []
     },
     "output_type": "display_data"
    }
   ],
   "source": [
    "fig, ax = plt.subplots(figsize=(20,10))\n",
    "sns.histplot(ax=ax, data=youth, x ='Metro_code', hue=\"Status_exp\");\n",
    "ax.set_title('Employment status per Metro/Non-metro');\n",
    "ax.set_xlim(0,18);\n",
    "ax.set_xticks(range(0,18));"
   ]
  },
  {
   "cell_type": "markdown",
   "metadata": {
    "id": "6n55QQcp_mFr"
   },
   "source": [
    "#### **Employment Status per Geography type**"
   ]
  },
  {
   "cell_type": "markdown",
   "metadata": {
    "id": "tHYIk4ReAwl_"
   },
   "source": [
    "* Farming areas (3) have the highest employment rate however,  they service a small portion of the labour force.\n",
    "* The urban (1) areas have the bulk of the labour force  with more young people employed than unemployed.\n",
    "* Traditional areas (2)  have more graduate youths that are unemployed than employed\n"
   ]
  },
  {
   "cell_type": "code",
   "execution_count": null,
   "metadata": {
    "colab": {
     "base_uri": "https://localhost:8080/"
    },
    "id": "adpX725l_lTi",
    "outputId": "7f865a9b-9244-4b1d-dddd-84c3229083f6"
   },
   "outputs": [
    {
     "data": {
      "image/png": "[encoded data removed]",
      "text/plain": [
       "<Figure size 1440x720 with 1 Axes>"
      ]
     },
     "metadata": {
      "needs_background": "light",
      "tags": []
     },
     "output_type": "display_data"
    }
   ],
   "source": [
    "fig, ax = plt.subplots(figsize=(20,10))\n",
    "sns.histplot(ax=ax, data=youth, x = 'Geo_type_code', hue=\"Status_exp\");\n",
    "ax.set_title('Employment status per Geography type');\n",
    "ax.set_xlim(0,4);\n",
    "ax.set_xticks([1,2,3]);"
   ]
  },
  {
   "cell_type": "markdown",
   "metadata": {
    "id": "fTmRYieJ5xkW"
   },
   "source": [
    "#### **Employment Status per Study Field**"
   ]
  },
  {
   "cell_type": "markdown",
   "metadata": {
    "id": "0_6iFTrwxwIR"
   },
   "source": [
    "The most popular study fields are:\n",
    "\n",
    "* Business; Commmerce and Management studies (4)\n",
    "* Education; training and development (7)\n",
    "* Health care or health  sciences (9)\n",
    "* Management (24)\n",
    "* Engineering or  Engineering Technology (8)<br/>\n",
    "\n",
    "Popular study fields, generally have more number of people that are employed than those who are unemployed (exluding those that are not economically active) but that is not the case for Management, this could be a popular study field with a negative employment. "
   ]
  },
  {
   "cell_type": "markdown",
   "metadata": {
    "id": "QJSYlgTN8rI6"
   },
   "source": [
    "The following study fields have more unemployed graduates than employed graduates:\n",
    "* Office administration (28)\n",
    "* Management (24)\n",
    "* Education and development (37)\n",
    "* Psychology (20)\n",
    "* Communication (5)\n",
    "* Tourism (34)\n",
    "* Hospitality (33)\n",
    "* Primary agriculture (32)"
   ]
  },
  {
   "cell_type": "code",
   "execution_count": null,
   "metadata": {
    "colab": {
     "base_uri": "https://localhost:8080/"
    },
    "id": "CcD1V1gCf6QL",
    "outputId": "64ed3212-8d30-4eb2-ed1b-89c97f3b62be"
   },
   "outputs": [
    {
     "data": {
      "image/png": "[encoded data removed]",
      "text/plain": [
       "<Figure size 1440x720 with 1 Axes>"
      ]
     },
     "metadata": {
      "needs_background": "light",
      "tags": []
     },
     "output_type": "display_data"
    }
   ],
   "source": [
    "fig, ax = plt.subplots(figsize=(20,10))\n",
    "sns.histplot(ax=ax, data=youth, x = 'Q18FIELD', hue=\"Status_exp\");\n",
    "ax.set_title('Employment status per Study field');\n",
    "ax.set_xlim(0,39);\n",
    "ax.set_xticks(range(0,39));"
   ]
  },
  {
   "cell_type": "markdown",
   "metadata": {
    "id": "J_mot1Q0uCUa"
   },
   "source": [
    "#### **Employment Status per Highest education level**"
   ]
  },
  {
   "cell_type": "markdown",
   "metadata": {
    "id": "rD6Dh25qubGK"
   },
   "source": [
    "* More young people who graduated with a lower level certificate, particularly the National Trade Certificates from the TVET colleges, are unemployed. However, as you increase the NQF level,  the employment opportunities improve as more people are employed than unemployed (*read from left to right*).\n",
    "* The chances of employment significantly improve once one has acquired at least a diploma and they significantly improve as the NQF level increases."
   ]
  },
  {
   "cell_type": "code",
   "execution_count": null,
   "metadata": {
    "colab": {
     "base_uri": "https://localhost:8080/"
    },
    "id": "_ZgwJ5ubAU-s",
    "outputId": "05f7cd1e-ec9e-45ed-fda1-01b7f7cc4a12"
   },
   "outputs": [
    {
     "data": {
      "image/png": "[encoded data removed]",
      "text/plain": [
       "<Figure size 1440x720 with 1 Axes>"
      ]
     },
     "metadata": {
      "needs_background": "light",
      "tags": []
     },
     "output_type": "display_data"
    }
   ],
   "source": [
    "fig, ax = plt.subplots(figsize=(20,10))\n",
    "sns.histplot(ax=ax, data=youth, x = 'Q17EDUCATION', hue=\"Status_exp\");\n",
    "ax.set_title('Employment status per Highest education level');\n",
    "ax.set_xlim(13,30);\n",
    "ax.set_xticks(range(13,30));"
   ]
  },
  {
   "cell_type": "markdown",
   "metadata": {
    "id": "TFLMrfBn2yQ8"
   },
   "source": [
    "#### **Employment Status per Population group**"
   ]
  },
  {
   "cell_type": "markdown",
   "metadata": {
    "id": "tJxJzApt2yWf"
   },
   "source": [
    "- White people (4) have a higher employment rate as they have more young people employed than unemployed, followed by Asians/Indians (3) and Coloureds (2).\n",
    "- Africans (1), in general, have more young people that are both employed and unemployed. \n",
    "-The employment rate among Africans is the lowest compared to other population groups."
   ]
  },
  {
   "cell_type": "code",
   "execution_count": null,
   "metadata": {
    "colab": {
     "base_uri": "https://localhost:8080/"
    },
    "id": "YSsyBaCvBO30",
    "outputId": "d1acff73-e39b-496d-98a3-65b951cf8e7d"
   },
   "outputs": [
    {
     "data": {
      "image/png": "[encoded data removed]",
      "text/plain": [
       "<Figure size 1440x720 with 1 Axes>"
      ]
     },
     "metadata": {
      "needs_background": "light",
      "tags": []
     },
     "output_type": "display_data"
    }
   ],
   "source": [
    "zfig, ax = plt.subplots(figsize=(20,10))\n",
    "sns.histplot(ax=ax, data=youth, x = 'Q15POPULATION', hue=\"Status_exp\");\n",
    "ax.set_title('Employment status per Population group');\n",
    "ax.set_xlim(0,5);\n",
    "ax.set_xticks(range(0,5));"
   ]
  },
  {
   "cell_type": "markdown",
   "metadata": {
    "id": "8eIg-pZ8eWPJ"
   },
   "source": [
    "### **Accuracy**\n",
    "https://www.statista.com/statistics/1129481/unemployment-rate-by-population-group-in-south-africa/\n",
    "https://www.thesouthafrican.com/news/why-unemployment-rate-change-lockdown-job-losses-province-south-africa/\n",
    "\n",
    "- Our analysis noted that Whites had the best employment rate compared to all races, followed by Indians/Asians, Coloureds and Africans, respectively. We cross-referenced with Statista, which is a German-based company specialising in market and consumer data. They indicated that this was the trend for a long time, and in Q4 of 2020, the unemployment rates per races were as follows: Whites (8.8%), Indians/Asians (11.8%), Coloureds (25.7%) and Africans (36.5%).  \n",
    "- We noted that the Western Cape had the least unemployment rate, and Limpopo had the worst unemployment rate. When we cross-referenced with the Southern African article on unemployment rates per province, it highlighted that the Western Cape had the best unemployment rate (27.3%). However, the Northern Cape was not the second-best but was a distant fourth (45.1%), and Limpopo was not the worst but second worst (46.5%). The difference could be that this article only referred to Q3 2020 data, not the overall trend. "
   ]
  },
  {
   "cell_type": "markdown",
   "metadata": {
    "id": "RaO2hbzeL0rm"
   },
   "source": [
    "<a name='mf'></a>\n",
    "# **Model Fitting**\n",
    "### **Model Fitting Methodology**\n",
    "The model fitting methodology ensured that the discovered initial model did not overfit. We separated the model testing from the model discovery, as shown below.\n",
    "- Initial Modelling: regressions, stepwise regressions.\n",
    "- Evaluation:\n",
    "  - For performance evaluation we used Pseudo F Squared.\n",
    "  - For model selection, we selected the model with the best Pseudo F Squared score.  \n",
    "  - We performed residual analysis to evaluate if the assumptions still hold.\n",
    "  - Outliers were detected and data post-processing conducted.\n",
    "- Model Refitting (we would have repeated previous steps if necessary.)\n",
    "- Model Testing\n",
    "- Final Analysis and Conclusion\n",
    "\n",
    "### **Assumptions**\n",
    "* We dropped all records with employment status equal to \"Not economically active\". The assumption was that each candidate after graduation should be employed or unemployed, those that are not economically active have nothing to do with regards to seeking employement.\n",
    "* Due to the dropping of the records with employment status equal to \"Not economically active\", the dataset shrank from 5 289 to 4 543. We also made the assumption that the distribution of the data is not affected.\n"
   ]
  },
  {
   "cell_type": "markdown",
   "metadata": {
    "id": "U9qloyws35_A"
   },
   "source": [
    "<a name='m1'></a>\n",
    "# **Logistic Regression - Model 1**\n",
    "### **Description of Model 1**\n",
    "\n",
    "* This problem is a binary classification which is defined as $y_i = \\left\\{ \\begin{array}{rcl} 0 & \\text{if unemployed} \\\\ 1 & \\text{if employed}     \\end{array}\\right.$\n",
    "* Because it's a binary classification problem, the natural choice is the logistic regression model.\n",
    "* **Logistic Regression**: <br/>\n",
    "  * Under the logistic regression, the model is then given by the following logistic function: $\\log(\\text{odds of being unemployed}) = \\beta_0 + \\beta_1 * \\text{Gender} + \\beta_2 * \\text{Race} + \\beta_3 * \\text{Education Level} + \\beta_4 * \\text{Age} + \\beta_5 * \\text{Province}$\n"
   ]
  },
  {
   "cell_type": "markdown",
   "metadata": {
    "id": "Mj-kLg32ul4w"
   },
   "source": [
    "### **Coding Variables**\n",
    "\n",
    "-  Since we have a lot of categorical variables in our regression models, we had to convert the categories into indicator variables.\n",
    "- We used Dummy encoding to split categories into indicator variables. Note, this is used when an intercept is included in the model.\n"
   ]
  },
  {
   "cell_type": "code",
   "execution_count": null,
   "metadata": {
    "id": "QR04gr5VeiWG"
   },
   "outputs": [],
   "source": [
    "#youth2 = youth[youth['Status_exp']!=4]\n",
    "#youth1 = youth2.copy()\n",
    "#youth1['Q17EDUCATION'] = youth1['Q17EDUCATION'].astype('int')\n",
    "#youth1 = pd.get_dummies(youth1, columns=['Q13GENDER', 'Q15POPULATION', 'Q18FIELD', \n",
    "         #'Metro_code', 'Province', 'Geo_type_code', 'Status_exp'], drop_first=True)\n",
    "\n",
    "#youth1 = youth1.drop(['Status_exp_4'], axis=1)"
   ]
  },
  {
   "cell_type": "code",
   "execution_count": null,
   "metadata": {
    "id": "pnYiuCc6A9an"
   },
   "outputs": [],
   "source": [
    "youth2 = youth[youth['Status_exp']!=4]\n",
    "youth1 = youth2[['Q13GENDER', 'Q14AGE', 'Q15POPULATION', 'Q17EDUCATION','Province', 'Status_exp']].copy()\n",
    "youth1['Q17EDUCATION'] = youth1['Q17EDUCATION'].astype('int')\n",
    "youth1 = pd.get_dummies(youth1, columns=['Q13GENDER', 'Q15POPULATION','Province', 'Status_exp'], drop_first=True)\n",
    "youth1 = youth1.drop(['Status_exp_4'], axis=1)"
   ]
  },
  {
   "cell_type": "markdown",
   "metadata": {
    "id": "i7gfmxsI9YTm"
   },
   "source": [
    "### **Data Splitting**\n",
    "* We first shuffled the dataset.\n",
    "* The data was split into the train (80%) and test(20%) datasets.\n",
    "* We extracted the X and y values from the dataset."
   ]
  },
  {
   "cell_type": "code",
   "execution_count": null,
   "metadata": {
    "id": "HSpcNgUeZYIl"
   },
   "outputs": [],
   "source": [
    "#shuffle data\n",
    "#youth3 = youth3.sample(frac = 1, random_state=3)\n",
    "from sklearn.model_selection import train_test_split\n",
    "X_train, X_test, y_train, y_test =train_test_split(youth1.drop(labels='Status_exp_2',axis=1),youth1['Status_exp_2'], shuffle=True,test_size=0.2, stratify=youth1['Status_exp_2'], random_state=2)\n",
    "train_data1 = X_train.copy()\n",
    "train_data1['Status_exp_2'] = y_train\n",
    "test_data1 = X_test.copy()\n",
    "test_data1['Status_exp_2']=y_test"
   ]
  },
  {
   "cell_type": "markdown",
   "metadata": {
    "id": "ouXEKQIRCZm9"
   },
   "source": [
    "### **Initial Modelling - Model 1**\n",
    "\n",
    "* For the initial model we fitted the model with none the variables and used used the Forward Selection Stepwise regression to identify variables that we could recursively add to the initial model.\n",
    "* The initial model only contained the intercept. \n",
    "* To measure model fit, we used the Pseudo R Squared.\n",
    "* The initial model fit Psuedo R Squared scored was 1.339e-10.\n"
   ]
  },
  {
   "cell_type": "code",
   "execution_count": null,
   "metadata": {
    "colab": {
     "base_uri": "https://localhost:8080/"
    },
    "id": "ymNWTgk8CkZj",
    "outputId": "5f1ea9db-bff3-4f58-8afc-4f63f03addc9"
   },
   "outputs": [
    {
     "name": "stdout",
     "output_type": "stream",
     "text": [
      "Optimization terminated successfully.\n",
      "         Current function value: 0.673610\n",
      "         Iterations 4\n",
      "                           Logit Regression Results                           \n",
      "==============================================================================\n",
      "Dep. Variable:           Status_exp_2   No. Observations:                 3634\n",
      "Model:                          Logit   Df Residuals:                     3633\n",
      "Method:                           MLE   Df Model:                            0\n",
      "Date:                Mon, 21 Jun 2021   Pseudo R-squ.:               1.339e-10\n",
      "Time:                        21:18:53   Log-Likelihood:                -2447.9\n",
      "converged:                       True   LL-Null:                       -2447.9\n",
      "Covariance Type:            nonrobust   LLR p-value:                       nan\n",
      "==============================================================================\n",
      "                 coef    std err          z      P>|z|      [0.025      0.975]\n",
      "------------------------------------------------------------------------------\n",
      "Intercept     -0.3993      0.034    -11.799      0.000      -0.466      -0.333\n",
      "==============================================================================\n"
     ]
    }
   ],
   "source": [
    "model1 = smf.logit(formula='Status_exp_2 ~ 1 ', data=train_data1).fit()\n",
    "print(model1.summary())"
   ]
  },
  {
   "cell_type": "markdown",
   "metadata": {
    "id": "H11e8-ipy-J6"
   },
   "source": [
    "### **Stepwise Regression**\n",
    "- We performed the stepwise regression using the Forward Selection procedure."
   ]
  },
  {
   "cell_type": "code",
   "execution_count": null,
   "metadata": {
    "id": "ob-nURKIy_Y5"
   },
   "outputs": [],
   "source": [
    "def forward_selected(data, response):\n",
    "    \"\"\"Linear model designed by forward selection.\n",
    "\n",
    "    Parameters:\n",
    "    -----------\n",
    "    data : pandas DataFrame with all possible predictors and response\n",
    "\n",
    "    response: string, name of response column in data\n",
    "\n",
    "    Returns:\n",
    "    --------\n",
    "    model: an \"optimal\" fitted statsmodels linear model\n",
    "           with an intercept\n",
    "           selected by forward selection\n",
    "           evaluated by adjusted R-squared\n",
    "    \"\"\"\n",
    "    remaining = set(data.columns) #remaining is a variable that will contain a set of the df columns\n",
    "    remaining.remove(response) #remove the response column from the set\n",
    "    selected = []  #initialise the list selected for the variable selected\n",
    "    current_score, best_new_score = 0.0, 0.0  #initialise the current score and best score to 0.0\n",
    "    while remaining and current_score == best_new_score:  #The while loop will continue as long as the set still has elements and current score is equal to best score\n",
    "        scores_with_candidates = []     #initialise the scores with canditates list\n",
    "        for candidate in remaining:     # iterate through the set of candidates in the remaining set (variables of the model)\n",
    "            formula = \"{} ~ {} + 1\".format(response,\n",
    "                                           ' + '.join(selected + [candidate])) #Add variables to the formula using the string format function which uses the + operator to join them\n",
    "            score = smf.logit(formula, data).fit(disp=0).prsquared;  #fit the regression and access the rsquared_adj score and assign in score\n",
    "            #print('currect score',score)\n",
    "            scores_with_candidates.append((score, candidate)) #add the score and added variable for comparison later\n",
    "        scores_with_candidates.sort()  #sort the list of scores and added candidates in ascending order by default\n",
    "        best_new_score, best_candidate = scores_with_candidates.pop() #removes and return the last item in the scores with candidates lists i.e. asigns it as the best score and best candidate \n",
    "        if current_score < best_new_score:  #checks if the best score greater than the current score\n",
    "            remaining.remove(best_candidate)  #if true remove the best candidate (variable) from the remaining variable set\n",
    "            selected.append(best_candidate)  #add the best candidate(variable) to the selected to be part of the regression formula\n",
    "            current_score = best_new_score    #update the current score by assigning it the best score and end IF statement\n",
    "            #the while loop will continue until there is no remaining candidates or the best score is not equal to the current score i.e. it is false in the if statement\n",
    "        #print('Haha') \n",
    "    formula = \"{} ~ {} + 1\".format(response,\n",
    "                                   ' + '.join(selected)) #After the while statement, we set the final regression formula\n",
    "    #print('Final formula',formula)\n",
    "    model = smf.logit(formula, data).fit(disp=0) #We fit the final regression formual and return the model.\n",
    "    return model"
   ]
  },
  {
   "cell_type": "code",
   "execution_count": null,
   "metadata": {
    "colab": {
     "base_uri": "https://localhost:8080/",
     "height": 419
    },
    "id": "evOEY5P9Bq52",
    "outputId": "713aeed1-1263-46ba-fee6-c7ef46bbebfe"
   },
   "outputs": [
    {
     "data": {
      "text/html": [
       "<div>\n",
       "<style scoped>\n",
       "    .dataframe tbody tr th:only-of-type {\n",
       "        vertical-align: middle;\n",
       "    }\n",
       "\n",
       "    .dataframe tbody tr th {\n",
       "        vertical-align: top;\n",
       "    }\n",
       "\n",
       "    .dataframe thead th {\n",
       "        text-align: right;\n",
       "    }\n",
       "</style>\n",
       "<table border=\"1\" class=\"dataframe\">\n",
       "  <thead>\n",
       "    <tr style=\"text-align: right;\">\n",
       "      <th></th>\n",
       "      <th>Q14AGE</th>\n",
       "      <th>Q17EDUCATION</th>\n",
       "      <th>Q13GENDER_2</th>\n",
       "      <th>Q15POPULATION_2</th>\n",
       "      <th>Q15POPULATION_3</th>\n",
       "      <th>Q15POPULATION_4</th>\n",
       "      <th>Province_2</th>\n",
       "      <th>Province_3</th>\n",
       "      <th>Province_4</th>\n",
       "      <th>Province_5</th>\n",
       "      <th>Province_6</th>\n",
       "      <th>Province_7</th>\n",
       "      <th>Province_8</th>\n",
       "      <th>Province_9</th>\n",
       "      <th>Status_exp_2</th>\n",
       "    </tr>\n",
       "  </thead>\n",
       "  <tbody>\n",
       "    <tr>\n",
       "      <th>16385</th>\n",
       "      <td>25</td>\n",
       "      <td>22</td>\n",
       "      <td>1</td>\n",
       "      <td>0</td>\n",
       "      <td>0</td>\n",
       "      <td>0</td>\n",
       "      <td>0</td>\n",
       "      <td>0</td>\n",
       "      <td>0</td>\n",
       "      <td>1</td>\n",
       "      <td>0</td>\n",
       "      <td>0</td>\n",
       "      <td>0</td>\n",
       "      <td>0</td>\n",
       "      <td>1</td>\n",
       "    </tr>\n",
       "    <tr>\n",
       "      <th>32634</th>\n",
       "      <td>32</td>\n",
       "      <td>23</td>\n",
       "      <td>1</td>\n",
       "      <td>0</td>\n",
       "      <td>0</td>\n",
       "      <td>0</td>\n",
       "      <td>0</td>\n",
       "      <td>0</td>\n",
       "      <td>0</td>\n",
       "      <td>1</td>\n",
       "      <td>0</td>\n",
       "      <td>0</td>\n",
       "      <td>0</td>\n",
       "      <td>0</td>\n",
       "      <td>0</td>\n",
       "    </tr>\n",
       "    <tr>\n",
       "      <th>39397</th>\n",
       "      <td>29</td>\n",
       "      <td>23</td>\n",
       "      <td>1</td>\n",
       "      <td>0</td>\n",
       "      <td>0</td>\n",
       "      <td>0</td>\n",
       "      <td>0</td>\n",
       "      <td>0</td>\n",
       "      <td>0</td>\n",
       "      <td>0</td>\n",
       "      <td>0</td>\n",
       "      <td>0</td>\n",
       "      <td>1</td>\n",
       "      <td>0</td>\n",
       "      <td>1</td>\n",
       "    </tr>\n",
       "    <tr>\n",
       "      <th>29752</th>\n",
       "      <td>29</td>\n",
       "      <td>25</td>\n",
       "      <td>0</td>\n",
       "      <td>0</td>\n",
       "      <td>0</td>\n",
       "      <td>1</td>\n",
       "      <td>0</td>\n",
       "      <td>0</td>\n",
       "      <td>0</td>\n",
       "      <td>0</td>\n",
       "      <td>0</td>\n",
       "      <td>1</td>\n",
       "      <td>0</td>\n",
       "      <td>0</td>\n",
       "      <td>0</td>\n",
       "    </tr>\n",
       "    <tr>\n",
       "      <th>36051</th>\n",
       "      <td>26</td>\n",
       "      <td>17</td>\n",
       "      <td>0</td>\n",
       "      <td>0</td>\n",
       "      <td>0</td>\n",
       "      <td>0</td>\n",
       "      <td>0</td>\n",
       "      <td>0</td>\n",
       "      <td>0</td>\n",
       "      <td>0</td>\n",
       "      <td>0</td>\n",
       "      <td>1</td>\n",
       "      <td>0</td>\n",
       "      <td>0</td>\n",
       "      <td>0</td>\n",
       "    </tr>\n",
       "    <tr>\n",
       "      <th>...</th>\n",
       "      <td>...</td>\n",
       "      <td>...</td>\n",
       "      <td>...</td>\n",
       "      <td>...</td>\n",
       "      <td>...</td>\n",
       "      <td>...</td>\n",
       "      <td>...</td>\n",
       "      <td>...</td>\n",
       "      <td>...</td>\n",
       "      <td>...</td>\n",
       "      <td>...</td>\n",
       "      <td>...</td>\n",
       "      <td>...</td>\n",
       "      <td>...</td>\n",
       "      <td>...</td>\n",
       "    </tr>\n",
       "    <tr>\n",
       "      <th>35665</th>\n",
       "      <td>22</td>\n",
       "      <td>26</td>\n",
       "      <td>1</td>\n",
       "      <td>0</td>\n",
       "      <td>0</td>\n",
       "      <td>0</td>\n",
       "      <td>0</td>\n",
       "      <td>0</td>\n",
       "      <td>0</td>\n",
       "      <td>0</td>\n",
       "      <td>1</td>\n",
       "      <td>0</td>\n",
       "      <td>0</td>\n",
       "      <td>0</td>\n",
       "      <td>1</td>\n",
       "    </tr>\n",
       "    <tr>\n",
       "      <th>11789</th>\n",
       "      <td>27</td>\n",
       "      <td>22</td>\n",
       "      <td>1</td>\n",
       "      <td>1</td>\n",
       "      <td>0</td>\n",
       "      <td>0</td>\n",
       "      <td>0</td>\n",
       "      <td>0</td>\n",
       "      <td>1</td>\n",
       "      <td>0</td>\n",
       "      <td>0</td>\n",
       "      <td>0</td>\n",
       "      <td>0</td>\n",
       "      <td>0</td>\n",
       "      <td>0</td>\n",
       "    </tr>\n",
       "    <tr>\n",
       "      <th>63170</th>\n",
       "      <td>27</td>\n",
       "      <td>22</td>\n",
       "      <td>0</td>\n",
       "      <td>0</td>\n",
       "      <td>0</td>\n",
       "      <td>0</td>\n",
       "      <td>0</td>\n",
       "      <td>0</td>\n",
       "      <td>0</td>\n",
       "      <td>0</td>\n",
       "      <td>0</td>\n",
       "      <td>0</td>\n",
       "      <td>0</td>\n",
       "      <td>1</td>\n",
       "      <td>1</td>\n",
       "    </tr>\n",
       "    <tr>\n",
       "      <th>59397</th>\n",
       "      <td>33</td>\n",
       "      <td>22</td>\n",
       "      <td>1</td>\n",
       "      <td>0</td>\n",
       "      <td>0</td>\n",
       "      <td>0</td>\n",
       "      <td>0</td>\n",
       "      <td>0</td>\n",
       "      <td>0</td>\n",
       "      <td>0</td>\n",
       "      <td>0</td>\n",
       "      <td>0</td>\n",
       "      <td>0</td>\n",
       "      <td>1</td>\n",
       "      <td>0</td>\n",
       "    </tr>\n",
       "    <tr>\n",
       "      <th>13720</th>\n",
       "      <td>34</td>\n",
       "      <td>16</td>\n",
       "      <td>1</td>\n",
       "      <td>0</td>\n",
       "      <td>0</td>\n",
       "      <td>0</td>\n",
       "      <td>0</td>\n",
       "      <td>0</td>\n",
       "      <td>1</td>\n",
       "      <td>0</td>\n",
       "      <td>0</td>\n",
       "      <td>0</td>\n",
       "      <td>0</td>\n",
       "      <td>0</td>\n",
       "      <td>1</td>\n",
       "    </tr>\n",
       "  </tbody>\n",
       "</table>\n",
       "<p>3634 rows × 15 columns</p>\n",
       "</div>"
      ],
      "text/plain": [
       "       Q14AGE  Q17EDUCATION  Q13GENDER_2  ...  Province_8  Province_9  Status_exp_2\n",
       "16385      25            22            1  ...           0           0             1\n",
       "32634      32            23            1  ...           0           0             0\n",
       "39397      29            23            1  ...           1           0             1\n",
       "29752      29            25            0  ...           0           0             0\n",
       "36051      26            17            0  ...           0           0             0\n",
       "...       ...           ...          ...  ...         ...         ...           ...\n",
       "35665      22            26            1  ...           0           0             1\n",
       "11789      27            22            1  ...           0           0             0\n",
       "63170      27            22            0  ...           0           1             1\n",
       "59397      33            22            1  ...           0           1             0\n",
       "13720      34            16            1  ...           0           0             1\n",
       "\n",
       "[3634 rows x 15 columns]"
      ]
     },
     "execution_count": 22,
     "metadata": {
      "tags": []
     },
     "output_type": "execute_result"
    }
   ],
   "source": [
    "train_data1"
   ]
  },
  {
   "cell_type": "code",
   "execution_count": null,
   "metadata": {
    "colab": {
     "base_uri": "https://localhost:8080/"
    },
    "id": "YH91uhNTziHZ",
    "outputId": "b37b80c2-8b08-4101-bae9-612a1ce86faa"
   },
   "outputs": [
    {
     "name": "stdout",
     "output_type": "stream",
     "text": [
      "                           Logit Regression Results                           \n",
      "==============================================================================\n",
      "Dep. Variable:           Status_exp_2   No. Observations:                 3634\n",
      "Model:                          Logit   Df Residuals:                     3619\n",
      "Method:                           MLE   Df Model:                           14\n",
      "Date:                Mon, 21 Jun 2021   Pseudo R-squ.:                  0.1386\n",
      "Time:                        21:18:59   Log-Likelihood:                -2108.5\n",
      "converged:                       True   LL-Null:                       -2447.9\n",
      "Covariance Type:            nonrobust   LLR p-value:                8.722e-136\n",
      "===================================================================================\n",
      "                      coef    std err          z      P>|z|      [0.025      0.975]\n",
      "-----------------------------------------------------------------------------------\n",
      "Intercept           4.8053      0.406     11.848      0.000       4.010       5.600\n",
      "Q14AGE             -0.1341      0.010    -13.832      0.000      -0.153      -0.115\n",
      "Q15POPULATION_4    -1.7963      0.190     -9.464      0.000      -2.168      -1.424\n",
      "Q17EDUCATION       -0.0869      0.012     -7.214      0.000      -0.111      -0.063\n",
      "Q15POPULATION_3    -1.6169      0.337     -4.791      0.000      -2.278      -0.955\n",
      "Q15POPULATION_2    -0.4218      0.188     -2.242      0.025      -0.791      -0.053\n",
      "Q13GENDER_2         0.3071      0.076      4.048      0.000       0.158       0.456\n",
      "Province_9          0.9457      0.193      4.911      0.000       0.568       1.323\n",
      "Province_5          0.7478      0.193      3.873      0.000       0.369       1.126\n",
      "Province_8          0.6890      0.206      3.340      0.001       0.285       1.093\n",
      "Province_3          0.0898      0.277      0.324      0.746      -0.454       0.633\n",
      "Province_4          0.6416      0.224      2.858      0.004       0.202       1.082\n",
      "Province_2          0.5698      0.207      2.755      0.006       0.164       0.975\n",
      "Province_7          0.5073      0.177      2.861      0.004       0.160       0.855\n",
      "Province_6          0.6125      0.238      2.577      0.010       0.147       1.078\n",
      "===================================================================================\n"
     ]
    }
   ],
   "source": [
    "new_model1 = forward_selected(train_data1, 'Status_exp_2')\n",
    "print(new_model1.summary())"
   ]
  },
  {
   "cell_type": "markdown",
   "metadata": {
    "id": "md4_hPmcGTmq"
   },
   "source": [
    "#### **Binned Residual Analysis**\n",
    "\n",
    "* The orange lines represent ± 2 Standard Error (SE) bands, and as expected they contain over 90% of the observations i.e 38 out of 40 binned observations are inside of the SE bands. \n",
    "* This model looks reasonable as there are no patterns and also the majority of the fitted values seem to fall within the SE bands. "
   ]
  },
  {
   "cell_type": "code",
   "execution_count": null,
   "metadata": {
    "id": "3PRzzB2KGTmr"
   },
   "outputs": [],
   "source": [
    "def bin_residuals(resid, var, bins):\n",
    "    '''\n",
    "    Compute average residuals within bins of a variable.\n",
    "\n",
    "    Returns a dataframe indexed by the bins, with the bin midpoint,\n",
    "    the residual average within the bin, and the confidence interval\n",
    "    bounds.\n",
    "    '''\n",
    "    resid_df = pd.DataFrame({'var': var, 'resid': resid})\n",
    "    resid_df['bins'] = pd.qcut(var.rank(method = \"first\"), bins)\n",
    "    bin_group = resid_df.groupby('bins')\n",
    "    bin_df = bin_group[['var', 'resid']].mean()\n",
    "    bin_df['count'] = bin_group['resid'].count()\n",
    "    bin_df['lower_ci'] = -2 * (bin_group['resid'].std() /\n",
    "    np.sqrt(bin_group['resid'].count()))\n",
    "    bin_df['upper_ci'] = 2 * (bin_group['resid'].std() /\n",
    "    np.sqrt(bin_df['count']))\n",
    "    bin_df = bin_df.sort_values('var')\n",
    "    #display(bin_df)\n",
    "    return(bin_df)\n",
    "\n",
    "def plot_binned_residuals(bin_df):\n",
    "    '''\n",
    "    Plotted binned residual averages and confidence intervals.\n",
    "    '''\n",
    "    plt.plot(bin_df['var'], bin_df['resid'], '.')\n",
    "    plt.plot(bin_df['var'], bin_df['lower_ci'], '-r')\n",
    "    plt.plot(bin_df['var'], bin_df['upper_ci'], '-r')\n",
    "    plt.axhline(0, color = 'gray', lw = .5)\n",
    "    plt.legend(['Average Residuals', 'Standard Error Bands'])"
   ]
  },
  {
   "cell_type": "code",
   "execution_count": null,
   "metadata": {
    "colab": {
     "base_uri": "https://localhost:8080/",
     "height": 627
    },
    "id": "MT2FeCHlGTmr",
    "outputId": "f3af401a-4e2e-4d03-8691-b45b01ab63e3"
   },
   "outputs": [
    {
     "data": {
      "image/png": "[encoded data removed]",
      "text/plain": [
       "<Figure size 1080x720 with 1 Axes>"
      ]
     },
     "metadata": {
      "needs_background": "light",
      "tags": []
     },
     "output_type": "display_data"
    }
   ],
   "source": [
    "fitted_resids = bin_residuals(new_model1.resid_response,new_model1.predict(train_data1.drop(labels='Status_exp_2', axis=1)), 40)\n",
    "\n",
    "plt.figure(figsize = (15, 10))\n",
    "plt.title('Binned Residual Plot for the Fitted Values')\n",
    "plt.ylabel('Average Residuals')\n",
    "plt.xlabel('Expected Values')\n",
    "plot_binned_residuals(fitted_resids)\n",
    "plt.show()"
   ]
  },
  {
   "cell_type": "markdown",
   "metadata": {
    "id": "rugLaZjME0Ag"
   },
   "source": [
    "#### **Model Evaluation**\n",
    "* We used the test set to evaluate the performance of the model.\n",
    "* The accuracy 68%\n",
    "* The model was able to classify the unemployed class better than the employed class since there was class imbalance."
   ]
  },
  {
   "cell_type": "code",
   "execution_count": null,
   "metadata": {
    "colab": {
     "base_uri": "https://localhost:8080/",
     "height": 302
    },
    "id": "z7S4LPLfE0Ar",
    "outputId": "87501347-d4bc-484b-e90c-0a62e56c7840"
   },
   "outputs": [
    {
     "name": "stdout",
     "output_type": "stream",
     "text": [
      "accuracy : 0.6886688668866887\n"
     ]
    },
    {
     "data": {
      "image/png": "[encoded data removed]",
      "text/plain": [
       "<Figure size 432x288 with 2 Axes>"
      ]
     },
     "metadata": {
      "needs_background": "light",
      "tags": []
     },
     "output_type": "display_data"
    }
   ],
   "source": [
    "predictions = new_model1.predict(test_data1.drop(labels='Status_exp_2', axis=1))\n",
    "from sklearn.metrics import mean_squared_error,ConfusionMatrixDisplay, confusion_matrix, accuracy_score, mean_absolute_error\n",
    "prediction = list(map(round, predictions))\n",
    "cm = confusion_matrix(prediction, test_data1.Status_exp_2, labels=[0,1])\n",
    "disp = ConfusionMatrixDisplay(confusion_matrix=cm,display_labels=['unemployed (0)','employed (1)'])\n",
    "disp.plot(values_format='');\n",
    "print(\"accuracy :\",accuracy_score(prediction, test_data1.Status_exp_2))"
   ]
  },
  {
   "cell_type": "markdown",
   "metadata": {
    "id": "anjHoPV1YUmR"
   },
   "source": [
    "<a name='mf'></a>\n",
    "### **Hypothesis Testing**"
   ]
  },
  {
   "cell_type": "markdown",
   "metadata": {
    "id": "zH-Nq6UK0Haw"
   },
   "source": [
    "#### **Contructing the Hypothesis**\n",
    "\n",
    "* $H_0: \\beta_i = 0$ $\\forall i \\in \\{0,1,...,14\\}$<br>\n",
    "  * The Null Hypothesis states that the coefficient of each independent variable and the intercept is zero.  \n",
    "  * It implies that each independent variable is insignificant to the Logistic Regression Model.\n",
    "\n",
    "* $H_1: \\beta_i \\neq 0$ $\\forall i \\in \\{0,1,...,14\\}$\n",
    "* **Appropriateness of Test**: We chose this test since we wanted to check if each variable affects youth unemployment."
   ]
  },
  {
   "cell_type": "code",
   "execution_count": null,
   "metadata": {
    "id": "eFpA-WLUPgpu"
   },
   "outputs": [],
   "source": [
    "p_values = new_model1.pvalues.to_numpy()"
   ]
  },
  {
   "cell_type": "markdown",
   "metadata": {
    "id": "uAGB1ge84qkN"
   },
   "source": [
    "#### **Test Statistic**\n",
    "* For the test statistics, we used the Wald $\\chi^2$ statistics that are used to test the significance of individual coefficients in the model.\n",
    "* Each Wald statistic is compared with a $\\chi^2$ distribution with 1 degree of freedom"
   ]
  },
  {
   "cell_type": "markdown",
   "metadata": {
    "id": "vHxir4Xs74fG"
   },
   "source": [
    "#### **Determine the p-value**\n",
    "* We used the p-values from the summary table above"
   ]
  },
  {
   "cell_type": "markdown",
   "metadata": {
    "id": "Jlisxlq48LlV"
   },
   "source": [
    "#### **Setting the threshold**\n",
    "*  To determine the statistical significance of the p-value, we set the threshold to 5%"
   ]
  },
  {
   "cell_type": "markdown",
   "metadata": {
    "id": "pGXlx8Vr8vN1"
   },
   "source": [
    "#### **Evaluation of the test**\n",
    "* We reject the NUll Hypothesis if the p-value associated with each variable $x_i$ is less than 0.05, otherwise we FAIL to reject.\n"
   ]
  },
  {
   "cell_type": "code",
   "execution_count": null,
   "metadata": {
    "colab": {
     "base_uri": "https://localhost:8080/"
    },
    "id": "6AaKkEl6N18a",
    "outputId": "b10a38af-1c4a-472f-a7a7-32f9a3f3d8f9"
   },
   "outputs": [
    {
     "name": "stdout",
     "output_type": "stream",
     "text": [
      "The p-values associated with  β 0 2.20273555837599e-32\n",
      "The p-values associated with  β 1 1.6259681013845394e-43\n",
      "The p-values associated with  β 2 2.978035714425256e-21\n",
      "The p-values associated with  β 3 5.449886954120974e-13\n",
      "The p-values associated with  β 4 1.658125548063731e-06\n",
      "The p-values associated with  β 5 0.024981333801093655\n",
      "The p-values associated with  β 6 5.165495655091804e-05\n",
      "The p-values associated with  β 7 9.049333424598839e-07\n",
      "The p-values associated with  β 8 0.00010772182063652977\n",
      "The p-values associated with  β 9 0.0008367678192382678\n",
      "The p-values associated with  β 10 0.7462060497422902\n",
      "The p-values associated with  β 11 0.00426099999655862\n",
      "The p-values associated with  β 12 0.005862475065807099\n",
      "The p-values associated with  β 13 0.004227757040482854\n",
      "The p-values associated with  β 14 0.009955306270037746\n"
     ]
    }
   ],
   "source": [
    "for i in range(0,len(p_values)):\n",
    "  print(\"The p-values associated with \",\"β\",i, p_values[i])"
   ]
  },
  {
   "cell_type": "markdown",
   "metadata": {
    "id": "Xw8kJXAXHW8Q"
   },
   "source": [
    "* Therefore we rejected the NULL hypothesis for $\\beta_i$ for $i \\in \\{1,2,...,9\\}$, $\\beta_{11}$ and $\\beta_i$ for $i \\in \\{11,12,...,14\\}$ since the p-values associated with those $\\beta$ values are less than 0.05.\n",
    "* We failed to reject the NULL hypothesis for $\\beta_{10}$."
   ]
  },
  {
   "cell_type": "code",
   "execution_count": null,
   "metadata": {
    "colab": {
     "base_uri": "https://localhost:8080/"
    },
    "id": "L6e-1UVSI3dN",
    "outputId": "62ae1d2e-d18b-4ac4-eefd-bd68fa95ab4d"
   },
   "outputs": [
    {
     "name": "stdout",
     "output_type": "stream",
     "text": [
      "                           Logit Regression Results                           \n",
      "==============================================================================\n",
      "Dep. Variable:           Status_exp_2   No. Observations:                 3634\n",
      "Model:                          Logit   Df Residuals:                     3619\n",
      "Method:                           MLE   Df Model:                           14\n",
      "Date:                Mon, 21 Jun 2021   Pseudo R-squ.:                  0.1386\n",
      "Time:                        21:19:00   Log-Likelihood:                -2108.5\n",
      "converged:                       True   LL-Null:                       -2447.9\n",
      "Covariance Type:            nonrobust   LLR p-value:                8.722e-136\n",
      "===================================================================================\n",
      "                      coef    std err          z      P>|z|      [0.025      0.975]\n",
      "-----------------------------------------------------------------------------------\n",
      "Intercept           4.8053      0.406     11.848      0.000       4.010       5.600\n",
      "Q14AGE             -0.1341      0.010    -13.832      0.000      -0.153      -0.115\n",
      "Q15POPULATION_4    -1.7963      0.190     -9.464      0.000      -2.168      -1.424\n",
      "Q17EDUCATION       -0.0869      0.012     -7.214      0.000      -0.111      -0.063\n",
      "Q15POPULATION_3    -1.6169      0.337     -4.791      0.000      -2.278      -0.955\n",
      "Q15POPULATION_2    -0.4218      0.188     -2.242      0.025      -0.791      -0.053\n",
      "Q13GENDER_2         0.3071      0.076      4.048      0.000       0.158       0.456\n",
      "Province_9          0.9457      0.193      4.911      0.000       0.568       1.323\n",
      "Province_5          0.7478      0.193      3.873      0.000       0.369       1.126\n",
      "Province_8          0.6890      0.206      3.340      0.001       0.285       1.093\n",
      "Province_3          0.0898      0.277      0.324      0.746      -0.454       0.633\n",
      "Province_4          0.6416      0.224      2.858      0.004       0.202       1.082\n",
      "Province_2          0.5698      0.207      2.755      0.006       0.164       0.975\n",
      "Province_7          0.5073      0.177      2.861      0.004       0.160       0.855\n",
      "Province_6          0.6125      0.238      2.577      0.010       0.147       1.078\n",
      "===================================================================================\n"
     ]
    }
   ],
   "source": [
    "print(new_model1.summary())"
   ]
  },
  {
   "cell_type": "markdown",
   "metadata": {
    "id": "bk7wgk6xl8ea"
   },
   "source": [
    "### **Interpreting Results**\n",
    "* Because we one-hot encoded the race population, we compared all the other three races from the dropped African race column. We noted that the White Race (Q15POPULATION_4) has the highest coefficient magnitude among the Race variables. It means that, if we compare Africans to Whites, there is a -1.7963 change in the log of the odds of unemployment. Whites are the most favoured race when it comes to employment.\n",
    "* Similarly, We one-hot encoded the province variable. We compared all the other eight provinces from the dropped Western Cape column. We noted that the Limpopo province (Province_9) has the highest coefficient magnitude among the province variables. It means that, if we compare the Western Cape province to the Limpopo province, there is a 0.9457 change in the log of the odds of unemployment. The Limpopo province is the worst affected when it comes to unemployment.\n",
    "* When you compare male to female, there is a 0.3071 change in the log of odds of unemployment.\n",
    "* As one ages the log of odds of unemployment reduces by 0.1341. This could be due to the experience obtained in previous years.\n",
    "* As one advances from one Education level (Q17EDUCATION) to another, the log of odds of unemployment decrease by 0.0869."
   ]
  },
  {
   "cell_type": "markdown",
   "metadata": {
    "id": "g5oA6ZYhOf8K"
   },
   "source": [
    "#### **Conclusion**\n",
    "\n",
    "* Most of the factors that impact the youth employment, are not due to study choices but to the structural nature of the SA economy such as inequality and legacies of Apartheid. The next we might need to dwelve more into these a little better.\n",
    "\n",
    "* It confirms that Africans compared to all the other races in South Africa, have the short end of the stick when it comes to employment.\n",
    "\n",
    "* The main factors affecting youth unemployment  are Race, Province and the education level attained.\n",
    "\n",
    "* From the above analysis, we can conclude that there is indeed a correlation between graduate unemployment in South Africa and various study choices and demographics."
   ]
  },
  {
   "cell_type": "markdown",
   "metadata": {
    "id": "LOYIR_aTEj5B"
   },
   "source": [
    "<a name='m2'></a>\n",
    "# **Logistic Regression - Model 2**\n",
    "### **Description of Model 2**\n",
    "\n",
    "* This problem is a binary classification which is defined as $y_i = \\left\\{ \\begin{array}{rcl} 1 & \\text{if unemployed} \\\\ 0 & \\text{if employed}     \\end{array}\\right.$\n",
    "* Model 2 is given by the following logistic function:<br>\n",
    "  * Let $\\beta=\\left[\\beta_0,\\beta_1,\\beta_{2}\\right]$ represent a vector of coefficients of the logistic model and $\\textbf{P}=\\left[\\text{1}, \\text{critical_skills}, \\text{highest_education_level}\\right]$ represent a vector of variables of the logistic model, with critical skills derived from [Study field](#study) according to the Department of Home Affairs` critical skills list. (ref: http://www.dha.gov.za/images/immigration_critical_skills.pdf).<br>\n",
    "  * Then $\\log(\\text{odds of being unemployed}) = \\beta \\textbf{P}$"
   ]
  },
  {
   "cell_type": "markdown",
   "metadata": {
    "id": "vXYy9N0IIEGg"
   },
   "source": [
    "### **Data coding**\n",
    "\n",
    "* We used Dummy encoding(Q18FIELD, Status_exp) to split categories into indicator variables.\n",
    "* We used label enconding on Q17EDUCATION since it is a ordinal category variable"
   ]
  },
  {
   "cell_type": "code",
   "execution_count": null,
   "metadata": {
    "id": "vq69wAXlIEGi"
   },
   "outputs": [],
   "source": [
    "youth4 = youth2[['Q18FIELD','Q17EDUCATION','Status_exp']].copy()\n",
    "youth4.replace({'Q18FIELD': {1:'1', 2:'1', 3:'0', 4:'1', 5:'1', 6:'1', 7:'1', 8:'1', 9:'1', 10:'0', \n",
    "                               11:'0', 12:'0', 13:'0', 14:'0', 15:'1', 16:'1', 17:'1', 18:'0', 19:'0',\n",
    "                             20:'0', 21:'0', 22:'0', 23:'0', 24:'1', 25:'1', 26:'1', 27:'1', 28:'0', 29:'1', 30:'1', 31:'1', 32:'1',33:'0',\n",
    "                             34:'0', 35:'0', 36:'1', 37:'1', 38:'0'},'Status_exp':{1:'0',2:'1'}}, inplace=True)\n",
    "youth4['Q17EDUCATION'] = youth4['Q17EDUCATION'].astype('int')\n",
    "youth4_dm = pd.get_dummies(youth4, columns=['Q18FIELD','Status_exp'], drop_first=True)"
   ]
  },
  {
   "cell_type": "markdown",
   "metadata": {
    "id": "ZaDzqVY0IEGk"
   },
   "source": [
    "### **Data Splitting**\n",
    "\n",
    "* We first shuffled the dataset.\n",
    "* The data was split into the train (80%) and test(20%) datasets.\n",
    "* We extracted the X and y values from the dataset."
   ]
  },
  {
   "cell_type": "code",
   "execution_count": null,
   "metadata": {
    "id": "UmVmMSwbIEGk"
   },
   "outputs": [],
   "source": [
    "#shuffle data\n",
    "#youth4_dm = youth4_dm.sample(frac = 1, random_state=3)\n",
    "from sklearn.model_selection import train_test_split\n",
    "X_train, X_test, y_train, y_test =train_test_split(youth4_dm.drop(labels='Status_exp_1',axis=1),youth4_dm['Status_exp_1'], stratify=youth4_dm['Status_exp_1'], shuffle=True,test_size=0.2, random_state=2)\n",
    "#stratify=youth3['Status_exp_1'], gave me errors and I took it out\n",
    "train_data2 = X_train.copy()\n",
    "train_data2['Status_exp_1'] = y_train\n",
    "test_data2 = X_test.copy()\n",
    "test_data2['Status_exp_1']=y_test"
   ]
  },
  {
   "cell_type": "markdown",
   "metadata": {
    "id": "th4BED21Ej5G"
   },
   "source": [
    "### **Initial Modelling - Model 2**\n",
    "\n",
    "* For the initial model we fitted the model with none the variables and used used the Forward Selection Stepwise regression to identify variables that we could recursively add to the initial model.\n",
    "* The initial model only contained the intercept. \n",
    "* To measure model fit, we used the Pseudo R Squared.\n",
    "* The initial model fit Psuedo R Squared scored was 1.339e-10.\n"
   ]
  },
  {
   "cell_type": "code",
   "execution_count": null,
   "metadata": {
    "colab": {
     "base_uri": "https://localhost:8080/"
    },
    "id": "A8FyQhUFEj5G",
    "outputId": "a2c7e96b-bd35-472e-dd0a-b3268b0dacee"
   },
   "outputs": [
    {
     "name": "stdout",
     "output_type": "stream",
     "text": [
      "                           Logit Regression Results                           \n",
      "==============================================================================\n",
      "Dep. Variable:           Status_exp_1   No. Observations:                 3634\n",
      "Model:                          Logit   Df Residuals:                     3633\n",
      "Method:                           MLE   Df Model:                            0\n",
      "Date:                Mon, 21 Jun 2021   Pseudo R-squ.:               1.339e-10\n",
      "Time:                        21:19:00   Log-Likelihood:                -2447.9\n",
      "converged:                       True   LL-Null:                       -2447.9\n",
      "Covariance Type:            nonrobust   LLR p-value:                       nan\n",
      "==============================================================================\n",
      "                 coef    std err          z      P>|z|      [0.025      0.975]\n",
      "------------------------------------------------------------------------------\n",
      "Intercept     -0.3993      0.034    -11.799      0.000      -0.466      -0.333\n",
      "==============================================================================\n"
     ]
    }
   ],
   "source": [
    "model2 = smf.logit(formula='Status_exp_1 ~ 1 ', data=train_data2).fit(disp=0)\n",
    "print(model2.summary())"
   ]
  },
  {
   "cell_type": "markdown",
   "metadata": {
    "id": "hIdvJPCMEj5H"
   },
   "source": [
    "#### **Stepwise Regression for model 2**\n",
    "* To test if the model improves, we used the Forward Selection Stepwise regression.\n",
    "* Higher Pseudo R Squared values were obtained as we added each variable indicating better model fit.\n",
    "* The Forward Selection Stepwise regression retained all the variables.\n",
    "* It implies that as we add subsequent variables after starting with the intercept, the estimated performance of the model keeps on improving.\n",
    "* The final Pseudo R Square score was 0.04582 which is better than the score for the initial model."
   ]
  },
  {
   "cell_type": "code",
   "execution_count": null,
   "metadata": {
    "colab": {
     "base_uri": "https://localhost:8080/"
    },
    "id": "LJkwE_16Ej5H",
    "outputId": "a09d4d5a-5c50-4044-81c5-0364b35f636e"
   },
   "outputs": [
    {
     "name": "stdout",
     "output_type": "stream",
     "text": [
      "                           Logit Regression Results                           \n",
      "==============================================================================\n",
      "Dep. Variable:           Status_exp_1   No. Observations:                 3634\n",
      "Model:                          Logit   Df Residuals:                     3631\n",
      "Method:                           MLE   Df Model:                            2\n",
      "Date:                Mon, 21 Jun 2021   Pseudo R-squ.:                 0.03604\n",
      "Time:                        21:19:00   Log-Likelihood:                -2359.7\n",
      "converged:                       True   LL-Null:                       -2447.9\n",
      "Covariance Type:            nonrobust   LLR p-value:                 4.867e-39\n",
      "================================================================================\n",
      "                   coef    std err          z      P>|z|      [0.025      0.975]\n",
      "--------------------------------------------------------------------------------\n",
      "Intercept        2.8942      0.257     11.273      0.000       2.391       3.397\n",
      "Q17EDUCATION    -0.1382      0.011    -12.686      0.000      -0.160      -0.117\n",
      "Q18FIELD_1      -0.2702      0.076     -3.553      0.000      -0.419      -0.121\n",
      "================================================================================\n"
     ]
    }
   ],
   "source": [
    "new_model2 = forward_selected(train_data2,'Status_exp_1')\n",
    "print(new_model2.summary())"
   ]
  },
  {
   "cell_type": "markdown",
   "metadata": {
    "id": "sVF-2Q-xEj5I"
   },
   "source": [
    "#### **Binned Residual Analysis**\n",
    "\n",
    "* The orange lines represent ± 2 Standard Error (SE) bands, and as expected they contain over 90% of the observations i.e 36 out of 40 binned observations are inside of the SE bands. \n",
    "* This model looks reasonable as there are no patterns and also the majority of the fitted values seem to fall within the SE bands. "
   ]
  },
  {
   "cell_type": "code",
   "execution_count": null,
   "metadata": {
    "id": "KK9_bUvFEj5I"
   },
   "outputs": [],
   "source": [
    "def bin_residuals(resid, var, bins):\n",
    "    '''\n",
    "    Compute average residuals within bins of a variable.\n",
    "\n",
    "    Returns a dataframe indexed by the bins, with the bin midpoint,\n",
    "    the residual average within the bin, and the confidence interval\n",
    "    bounds.\n",
    "    '''\n",
    "    resid_df = pd.DataFrame({'var': var, 'resid': resid})\n",
    "    resid_df['bins'] = pd.qcut(var.rank(method = \"first\"), bins)\n",
    "    bin_group = resid_df.groupby('bins')\n",
    "    bin_df = bin_group[['var', 'resid']].mean()\n",
    "    bin_df['count'] = bin_group['resid'].count()\n",
    "    bin_df['lower_ci'] = -2 * (bin_group['resid'].std() /\n",
    "    np.sqrt(bin_group['resid'].count()))\n",
    "    bin_df['upper_ci'] = 2 * (bin_group['resid'].std() /\n",
    "    np.sqrt(bin_df['count']))\n",
    "    bin_df = bin_df.sort_values('var')\n",
    "    #display(bin_df)\n",
    "    return(bin_df)\n",
    "\n",
    "def plot_binned_residuals(bin_df):\n",
    "    '''\n",
    "    Plotted binned residual averages and confidence intervals.\n",
    "    '''\n",
    "    plt.plot(bin_df['var'], bin_df['resid'], '.')\n",
    "    plt.plot(bin_df['var'], bin_df['lower_ci'], '-r')\n",
    "    plt.plot(bin_df['var'], bin_df['upper_ci'], '-r')\n",
    "    plt.axhline(0, color = 'gray', lw = .5)\n",
    "    plt.legend(['Average Residuals', 'Standard Error Bands'])"
   ]
  },
  {
   "cell_type": "code",
   "execution_count": null,
   "metadata": {
    "colab": {
     "base_uri": "https://localhost:8080/",
     "height": 627
    },
    "id": "osiElmgvEj5I",
    "outputId": "b3f31438-5086-40bf-e426-51f530c662e9"
   },
   "outputs": [
    {
     "data": {
      "image/png": "[encoded data removed]",
      "text/plain": [
       "<Figure size 1080x720 with 1 Axes>"
      ]
     },
     "metadata": {
      "needs_background": "light",
      "tags": []
     },
     "output_type": "display_data"
    }
   ],
   "source": [
    "fitted_resids = bin_residuals(new_model2.resid_response,new_model2.predict(train_data2.drop(labels='Status_exp_1', axis=1)), 40)\n",
    "\n",
    "plt.figure(figsize = (15, 10))\n",
    "plt.title('Binned Residual Plot for the Fitted Values')\n",
    "plt.ylabel('Average Residuals')\n",
    "plt.xlabel('Expected Values')\n",
    "plot_binned_residuals(fitted_resids)\n",
    "plt.show()"
   ]
  },
  {
   "cell_type": "markdown",
   "metadata": {
    "id": "epf4RqmaEj5J"
   },
   "source": [
    "#### **Model Evaluation**\n",
    "* We used the test set to evaluate the performance of the model.\n",
    "* The accuracy was 61%\n",
    "* The model was able to classify the unemployed class better than the employed class since there was class imbalance."
   ]
  },
  {
   "cell_type": "code",
   "execution_count": null,
   "metadata": {
    "colab": {
     "base_uri": "https://localhost:8080/",
     "height": 302
    },
    "id": "0T1iOu0sEj5K",
    "outputId": "c20aaa4b-63cd-4e60-e127-0fd64a152b23"
   },
   "outputs": [
    {
     "name": "stdout",
     "output_type": "stream",
     "text": [
      "accuracy : 0.6171617161716172\n"
     ]
    },
    {
     "data": {
      "image/png": "[encoded data removed]",
      "text/plain": [
       "<Figure size 432x288 with 2 Axes>"
      ]
     },
     "metadata": {
      "needs_background": "light",
      "tags": []
     },
     "output_type": "display_data"
    }
   ],
   "source": [
    "predictions = new_model2.predict(test_data2.drop(labels='Status_exp_1', axis=1))\n",
    "from sklearn.metrics import mean_squared_error,ConfusionMatrixDisplay, confusion_matrix, accuracy_score, mean_absolute_error\n",
    "prediction = list(map(round, predictions))\n",
    "cm = confusion_matrix(prediction, test_data2.Status_exp_1, labels=[0,1])\n",
    "disp = ConfusionMatrixDisplay(confusion_matrix=cm,display_labels=['unemployed (0)','employed (1)'])\n",
    "disp.plot(values_format='');\n",
    "print(\"accuracy :\",accuracy_score(prediction, test_data2.Status_exp_1))"
   ]
  },
  {
   "cell_type": "markdown",
   "metadata": {
    "id": "Gc3BL5dAEj5K"
   },
   "source": [
    "<a name='mf'></a>\n",
    "#### **Hypothesis Testing**"
   ]
  },
  {
   "cell_type": "markdown",
   "metadata": {
    "id": "6DM1AqdQEj5K"
   },
   "source": [
    "##### **Contructing the Hypothesis**\n",
    "\n",
    "* $H_0: \\beta_i = 0$ $\\forall i \\in \\{0,1,...,3\\}$<br>\n",
    "  * The Null Hypothesis states that the coefficient of each independent variable and the intercept is zero.  \n",
    "  * It implies that each independent variable is insignificant to the Logistic Regression Model.\n",
    "\n",
    "* $H_1: \\beta_i \\neq 0$ $\\forall i \\in \\{0,1,...,3\\}$\n",
    "* **Appropriateness of Test**: We chose this test since we wanted to check if each variable affects youth unemployment."
   ]
  },
  {
   "cell_type": "markdown",
   "metadata": {
    "id": "QcDvGqVeEj5K"
   },
   "source": [
    "##### **Test Statistic**\n",
    "* For the test statistics, we used the Wald $\\chi^2$ statistics that are used to test the significance of individual coefficients in the model.\n",
    "* Each Wald statistic is compared with a $\\chi^2$ distribution with 1 degree of freedom"
   ]
  },
  {
   "cell_type": "markdown",
   "metadata": {
    "id": "LlXpAZimEj5K"
   },
   "source": [
    "##### **Determine the p-value**\n",
    "* We used the p-values from the summary table above"
   ]
  },
  {
   "cell_type": "code",
   "execution_count": null,
   "metadata": {
    "id": "DljcSbr7Ej5L"
   },
   "outputs": [],
   "source": [
    "p_values = new_model2.pvalues.to_numpy()"
   ]
  },
  {
   "cell_type": "markdown",
   "metadata": {
    "id": "Kp-gjzKbEj5L"
   },
   "source": [
    "##### **Setting the threshold**\n",
    "*  To determine the statistical significance of the p-value, we set the threshold to 5%"
   ]
  },
  {
   "cell_type": "markdown",
   "metadata": {
    "id": "MLiqxJtlEj5L"
   },
   "source": [
    "##### **Evaluation of the test**\n",
    "* We reject the NULL Hypothesis if the p-value associated with each variable $x_i$ is less than 0.05, otherwise we FAIL to reject.\n"
   ]
  },
  {
   "cell_type": "code",
   "execution_count": null,
   "metadata": {
    "colab": {
     "base_uri": "https://localhost:8080/"
    },
    "id": "bCW8Gi--Ej5L",
    "outputId": "30191671-9083-45f1-c28f-8744bd9e911a"
   },
   "outputs": [
    {
     "name": "stdout",
     "output_type": "stream",
     "text": [
      "The p-values associated with  β 0 1.7762010424210452e-29\n",
      "The p-values associated with  β 1 7.112247292224455e-37\n",
      "The p-values associated with  β 2 0.000380703102071823\n"
     ]
    }
   ],
   "source": [
    "for i in range(0,len(p_values)):\n",
    "  print(\"The p-values associated with \",\"β\",i, p_values[i])"
   ]
  },
  {
   "cell_type": "markdown",
   "metadata": {
    "id": "1EDa2lLiEj5L"
   },
   "source": [
    "* Therefore we rejected the NULL hypothesis for $\\beta_i$ for $i \\in \\{1,2,3\\}$ since the p-values associated with those $\\beta$ values are less than 0.05."
   ]
  },
  {
   "cell_type": "markdown",
   "metadata": {
    "id": "cEUynvX2Ej5N"
   },
   "source": [
    "##### **Interpreting Results**\n",
    "* All the coefficients are negative, meaning any step increase in each variable reduces the log of the odds of unemployment. \n",
    "* The critical skill variable has a bigger magnitude of the coefficient, meaning that each change from non-critical skill related course to a critical skill related cause, it reduces the log of the odds of employment by 0.2702.\n"
   ]
  },
  {
   "cell_type": "markdown",
   "metadata": {
    "id": "VZT1jCPqEj5N"
   },
   "source": [
    "##### **Conclusion**"
   ]
  },
  {
   "cell_type": "markdown",
   "metadata": {
    "id": "MTCmHI1JEj5N"
   },
   "source": [
    "* Our analysis indicates that proceeding with education level to a higher level and pursuing courses related to critical skills improves the chances of employment.\n",
    "* We accept our assumption that graduates that studied courses that are not related to critical skills and acquired the lowest NQF level are likely to be unemployed.\n",
    "* Its therefore important to encourage the youth to study more on critical skill-related courses and advance to higher levels\n"
   ]
  },
  {
   "cell_type": "markdown",
   "metadata": {
    "id": "x9s8ubeJW-4B"
   },
   "source": [
    "<a name='m3'></a>\n",
    "# **Logistic Regression - Model 3**\n",
    "### **Description of Model 3**\n",
    "\n",
    "* This problem is a binary classification which is defined as $y_i = \\left\\{ \\begin{array}{rcl} 1 & \\text{if unemployed} \\\\ 0 & \\text{if employed}     \\end{array}\\right.$\n",
    "* Model 3 is given by the following logistic function:<br>\n",
    "Let $\\beta=\\left[\\beta_0,\\beta_1,...,\\beta_{15}\\right]$ represent a vector of coefficients of the logistic model and $\\textbf{P}$ represent a vector of variables of the [Highest education level](#highest_edu).<br>\n",
    "Then $\\log(\\text{odds of being unemployed}) = \\beta \\textbf{P}$"
   ]
  },
  {
   "cell_type": "markdown",
   "metadata": {
    "id": "vxqyp9_PqhoH"
   },
   "source": [
    "### **Data coding**\n",
    "\n",
    "* We used Dummy encoding to split categories into indicator variables."
   ]
  },
  {
   "cell_type": "code",
   "execution_count": null,
   "metadata": {
    "id": "3J5SEAXcqhoK"
   },
   "outputs": [],
   "source": [
    "youth3 = youth2[['Q17EDUCATION','Status_exp']].copy()"
   ]
  },
  {
   "cell_type": "code",
   "execution_count": null,
   "metadata": {
    "id": "6az-Ml3OqhoL"
   },
   "outputs": [],
   "source": [
    "youth3_dm = pd.get_dummies(youth3, columns=['Q17EDUCATION','Status_exp'], drop_first=True)\n",
    "youth3_dm.drop(columns='Status_exp_4',axis=1,inplace=True)"
   ]
  },
  {
   "cell_type": "markdown",
   "metadata": {
    "id": "af7meaqxqIPv"
   },
   "source": [
    "### **Data Splitting**\n",
    "\n",
    "* We first shuffled the dataset.\n",
    "* The data was split into the train (80%) and test(20%) datasets.\n",
    "* We extracted the X and y values from the dataset."
   ]
  },
  {
   "cell_type": "code",
   "execution_count": null,
   "metadata": {
    "id": "3yMYKg2KqIP7"
   },
   "outputs": [],
   "source": [
    "#shuffle data\n",
    "#youth4_dm = youth4_dm.sample(frac = 1, random_state=3)\n",
    "from sklearn.model_selection import train_test_split\n",
    "X_train, X_test, y_train, y_test =train_test_split(youth3_dm.drop(labels='Status_exp_2',axis=1),youth3_dm['Status_exp_2'], stratify=youth3_dm['Status_exp_2'], shuffle=True,test_size=0.2, random_state=2)\n",
    "#stratify=youth3['Status_exp_1'], gave me errors and I took it out\n",
    "train_data3 = X_train.copy()\n",
    "train_data3['Status_exp_2'] = y_train\n",
    "test_data3 = X_test.copy()\n",
    "test_data3['Status_exp_2']=y_test"
   ]
  },
  {
   "cell_type": "markdown",
   "metadata": {
    "id": "0cx9FrptJN5Q"
   },
   "source": [
    "### **Initial Modelling - Model 3**\n",
    "\n",
    "* For the initial model we fitted the model with none the variables and used used the Forward Selection Stepwise regression to identify variables that we could recursively add to the initial model.\n",
    "* The initial model only contained the intercept. \n",
    "* To measure model fit, we used the Pseudo R Squared.\n",
    "* The initial model fit Psuedo R Squared scored was 1.339e-10.\n"
   ]
  },
  {
   "cell_type": "code",
   "execution_count": null,
   "metadata": {
    "colab": {
     "base_uri": "https://localhost:8080/"
    },
    "id": "13hafZI0YA19",
    "outputId": "6e368001-ec91-480b-f7d9-4a9858b3b2d9"
   },
   "outputs": [
    {
     "name": "stdout",
     "output_type": "stream",
     "text": [
      "Optimization terminated successfully.\n",
      "         Current function value: 0.673610\n",
      "         Iterations 4\n",
      "                           Logit Regression Results                           \n",
      "==============================================================================\n",
      "Dep. Variable:           Status_exp_2   No. Observations:                 3634\n",
      "Model:                          Logit   Df Residuals:                     3633\n",
      "Method:                           MLE   Df Model:                            0\n",
      "Date:                Mon, 21 Jun 2021   Pseudo R-squ.:               1.339e-10\n",
      "Time:                        21:19:01   Log-Likelihood:                -2447.9\n",
      "converged:                       True   LL-Null:                       -2447.9\n",
      "Covariance Type:            nonrobust   LLR p-value:                       nan\n",
      "==============================================================================\n",
      "                 coef    std err          z      P>|z|      [0.025      0.975]\n",
      "------------------------------------------------------------------------------\n",
      "Intercept     -0.3993      0.034    -11.799      0.000      -0.466      -0.333\n",
      "==============================================================================\n"
     ]
    }
   ],
   "source": [
    "model3_data = train_data3[['Q17EDUCATION_15', 'Q17EDUCATION_16',\n",
    "       'Q17EDUCATION_17', 'Q17EDUCATION_18', 'Q17EDUCATION_19',\n",
    "       'Q17EDUCATION_20', 'Q17EDUCATION_21', 'Q17EDUCATION_22',\n",
    "       'Q17EDUCATION_23', 'Q17EDUCATION_24', 'Q17EDUCATION_25',\n",
    "       'Q17EDUCATION_26', 'Q17EDUCATION_27', 'Q17EDUCATION_28',\n",
    "       'Q17EDUCATION_29','Status_exp_2']]\n",
    "model3 = smf.logit(formula='Status_exp_2 ~ 1 ', data=model3_data).fit()\n",
    "print(model3.summary())"
   ]
  },
  {
   "cell_type": "markdown",
   "metadata": {
    "id": "FtXyFu2LcDva"
   },
   "source": [
    "#### **Stepwise Regression for model 3**\n",
    "* To test if the model improves, we used the Forward Selection Stepwise regression.\n",
    "* Higher Pseudo R Squared values were obtained as we added each variable indicating better model fit.\n",
    "* The Forward Selection Stepwise regression retained all the variables.\n",
    "* It implies that as we add subsequent variables after starting with the intercept, the estimated performance of the model keeps on improving.\n",
    "* The final Pseudo R Square score was 0.04582 which is better than the score for the initial model."
   ]
  },
  {
   "cell_type": "code",
   "execution_count": null,
   "metadata": {
    "colab": {
     "base_uri": "https://localhost:8080/"
    },
    "id": "9ZkxokZfbEyr",
    "outputId": "26f02d77-f33f-46e1-aeeb-2914b1e7aa78"
   },
   "outputs": [
    {
     "name": "stdout",
     "output_type": "stream",
     "text": [
      "                           Logit Regression Results                           \n",
      "==============================================================================\n",
      "Dep. Variable:           Status_exp_2   No. Observations:                 3634\n",
      "Model:                          Logit   Df Residuals:                     3618\n",
      "Method:                           MLE   Df Model:                           15\n",
      "Date:                Mon, 21 Jun 2021   Pseudo R-squ.:                 0.04485\n",
      "Time:                        21:19:10   Log-Likelihood:                -2338.1\n",
      "converged:                       True   LL-Null:                       -2447.9\n",
      "Covariance Type:            nonrobust   LLR p-value:                 2.153e-38\n",
      "===================================================================================\n",
      "                      coef    std err          z      P>|z|      [0.025      0.975]\n",
      "-----------------------------------------------------------------------------------\n",
      "Intercept           0.4595      0.369      1.246      0.213      -0.263       1.182\n",
      "Q17EDUCATION_26    -1.4019      0.379     -3.703      0.000      -2.144      -0.660\n",
      "Q17EDUCATION_29   -46.5231   1.44e+09  -3.24e-08      1.000   -2.82e+09    2.82e+09\n",
      "Q17EDUCATION_28    -2.2174      0.441     -5.027      0.000      -3.082      -1.353\n",
      "Q17EDUCATION_24    -1.2144      0.403     -3.011      0.003      -2.005      -0.424\n",
      "Q17EDUCATION_27    -1.3671      0.444     -3.080      0.002      -2.237      -0.497\n",
      "Q17EDUCATION_23    -0.7713      0.375     -2.057      0.040      -1.506      -0.037\n",
      "Q17EDUCATION_25    -1.3170      0.488     -2.701      0.007      -2.273      -0.361\n",
      "Q17EDUCATION_22    -0.6150      0.376     -1.634      0.102      -1.353       0.123\n",
      "Q17EDUCATION_21    -0.8650      0.442     -1.956      0.050      -1.732       0.002\n",
      "Q17EDUCATION_19    -0.5795      0.393     -1.474      0.140      -1.350       0.191\n",
      "Q17EDUCATION_17    -0.4595      0.415     -1.107      0.268      -1.273       0.354\n",
      "Q17EDUCATION_18    -0.3563      0.421     -0.846      0.397      -1.182       0.469\n",
      "Q17EDUCATION_20    -0.2325      0.414     -0.562      0.574      -1.043       0.578\n",
      "Q17EDUCATION_16    -0.1525      0.404     -0.378      0.706      -0.944       0.639\n",
      "Q17EDUCATION_15    -0.1186      0.435     -0.273      0.785      -0.972       0.734\n",
      "===================================================================================\n"
     ]
    }
   ],
   "source": [
    "new_model3 = forward_selected(model3_data,'Status_exp_2')\n",
    "print(new_model3.summary())"
   ]
  },
  {
   "cell_type": "markdown",
   "metadata": {
    "id": "1niA6u09np73"
   },
   "source": [
    "#### **Binned Residual Analysis**\n",
    "\n",
    "* The orange lines represent ± 2 Standard Error (SE) bands, and as expected they contain over 90% of the observations i.e 36 out of 38 binned observations are inside of the SE bands. \n",
    "* This model looks reasonable as there are no patterns and also the majority of the fitted values seem to fall within the SE bands. "
   ]
  },
  {
   "cell_type": "code",
   "execution_count": null,
   "metadata": {
    "id": "mtUyltLna_au"
   },
   "outputs": [],
   "source": [
    "def bin_residuals(resid, var, bins):\n",
    "    '''\n",
    "    Compute average residuals within bins of a variable.\n",
    "\n",
    "    Returns a dataframe indexed by the bins, with the bin midpoint,\n",
    "    the residual average within the bin, and the confidence interval\n",
    "    bounds.\n",
    "    '''\n",
    "    resid_df = pd.DataFrame({'var': var, 'resid': resid})\n",
    "    resid_df['bins'] = pd.qcut(var.rank(method = \"first\"), bins)\n",
    "    bin_group = resid_df.groupby('bins')\n",
    "    bin_df = bin_group[['var', 'resid']].mean()\n",
    "    bin_df['count'] = bin_group['resid'].count()\n",
    "    bin_df['lower_ci'] = -2 * (bin_group['resid'].std() /\n",
    "    np.sqrt(bin_group['resid'].count()))\n",
    "    bin_df['upper_ci'] = 2 * (bin_group['resid'].std() /\n",
    "    np.sqrt(bin_df['count']))\n",
    "    bin_df = bin_df.sort_values('var')\n",
    "    #display(bin_df)\n",
    "    return(bin_df)\n",
    "\n",
    "def plot_binned_residuals(bin_df):\n",
    "    '''\n",
    "    Plotted binned residual averages and confidence intervals.\n",
    "    '''\n",
    "    plt.plot(bin_df['var'], bin_df['resid'], '.')\n",
    "    plt.plot(bin_df['var'], bin_df['lower_ci'], '-r')\n",
    "    plt.plot(bin_df['var'], bin_df['upper_ci'], '-r')\n",
    "    plt.axhline(0, color = 'gray', lw = .5)\n",
    "    plt.legend(['Average Residuals', 'Standard Error Bands'])"
   ]
  },
  {
   "cell_type": "code",
   "execution_count": null,
   "metadata": {
    "colab": {
     "base_uri": "https://localhost:8080/",
     "height": 627
    },
    "id": "mJcaUN4KuTp0",
    "outputId": "3fdf3ea3-4bea-4800-8043-78c51bfc8a2d"
   },
   "outputs": [
    {
     "data": {
      "image/png": "[encoded data removed]",
      "text/plain": [
       "<Figure size 1080x720 with 1 Axes>"
      ]
     },
     "metadata": {
      "needs_background": "light",
      "tags": []
     },
     "output_type": "display_data"
    }
   ],
   "source": [
    "fitted_resids = bin_residuals(new_model3.resid_response,new_model3.predict(model3_data.drop(labels='Status_exp_2', axis=1)), 40)\n",
    "\n",
    "plt.figure(figsize = (15, 10))\n",
    "plt.title('Binned Residual Plot for the Fitted Values')\n",
    "plt.ylabel('Average Residuals')\n",
    "plt.xlabel('Expected Values')\n",
    "plot_binned_residuals(fitted_resids)\n",
    "plt.show()"
   ]
  },
  {
   "cell_type": "markdown",
   "metadata": {
    "id": "tmNLAcRyakcD"
   },
   "source": [
    "#### **Model 3 Evaluation**\n",
    "* We used the test set to evaluate the performance of the model.\n",
    "* The accuracy was 61%\n",
    "* The model was able to classify the unemployed class better than the employed class since there was class imbalance."
   ]
  },
  {
   "cell_type": "code",
   "execution_count": null,
   "metadata": {
    "colab": {
     "base_uri": "https://localhost:8080/",
     "height": 302
    },
    "id": "h7YiNMMcXJJ7",
    "outputId": "b29cbc87-933e-4802-feb1-9532a3b585e7"
   },
   "outputs": [
    {
     "name": "stdout",
     "output_type": "stream",
     "text": [
      "accuracy : 0.6138613861386139\n"
     ]
    },
    {
     "data": {
      "image/png": "[encoded data removed]",
      "text/plain": [
       "<Figure size 432x288 with 2 Axes>"
      ]
     },
     "metadata": {
      "needs_background": "light",
      "tags": []
     },
     "output_type": "display_data"
    }
   ],
   "source": [
    "predictions = new_model3.predict(test_data3.drop(labels='Status_exp_2', axis=1))\n",
    "from sklearn.metrics import mean_squared_error,ConfusionMatrixDisplay, confusion_matrix, accuracy_score, mean_absolute_error\n",
    "prediction = list(map(round, predictions))\n",
    "cm = confusion_matrix(prediction, test_data3.Status_exp_2, labels=[0,1])\n",
    "disp = ConfusionMatrixDisplay(confusion_matrix=cm,display_labels=['unemployed (0)','employed (1)'])\n",
    "disp.plot(values_format='');\n",
    "print(\"accuracy :\",accuracy_score(prediction, test_data3.Status_exp_2))"
   ]
  },
  {
   "cell_type": "markdown",
   "metadata": {
    "id": "Dptd4U8kq3YS"
   },
   "source": [
    "<a name='mf'></a>\n",
    "#### **Hypothesis Testing**"
   ]
  },
  {
   "cell_type": "markdown",
   "metadata": {
    "id": "7Xqx3GQRq3YS"
   },
   "source": [
    "##### **Contructing the Hypothesis**\n",
    "\n",
    "* $H_0: \\beta_i = 0$ $\\forall i \\in \\{0,1,...,16\\}$<br>\n",
    "  * The Null Hypothesis states that the coefficient of each independent variable and the intercept is zero.  \n",
    "  * It implies that each independent variable is insignificant to the Logistic Regression Model.\n",
    "\n",
    "* $H_1: \\beta_i \\neq 0$ $\\forall i \\in \\{0,1,...,16\\}$\n",
    "* **Appropriateness of Test**: We chose this test since we wanted to check if each variable affects youth unemployment."
   ]
  },
  {
   "cell_type": "markdown",
   "metadata": {
    "id": "mI_2GLn-q3YS"
   },
   "source": [
    "##### **Test Statistic**\n",
    "* For the test statistics, we used the Wald $\\chi^2$ statistics that are used to test the significance of individual coefficients in the model.\n",
    "* Each Wald statistic is compared with a $\\chi^2$ distribution with 1 degree of freedom"
   ]
  },
  {
   "cell_type": "markdown",
   "metadata": {
    "id": "0VvB1Hfaq3YT"
   },
   "source": [
    "##### **Determine the p-value**\n",
    "* We used the p-values from the summary table above"
   ]
  },
  {
   "cell_type": "code",
   "execution_count": null,
   "metadata": {
    "id": "L41tNcFRq3YT"
   },
   "outputs": [],
   "source": [
    "p_values = new_model3.pvalues.to_numpy()"
   ]
  },
  {
   "cell_type": "markdown",
   "metadata": {
    "id": "WUlZSzuNq3YU"
   },
   "source": [
    "##### **Setting the threshold**\n",
    "*  To determine the statistical significance of the p-value, we set the threshold to 5%"
   ]
  },
  {
   "cell_type": "markdown",
   "metadata": {
    "id": "ZZ4uHFQOq3YV"
   },
   "source": [
    "##### **Evaluation of the test**\n",
    "* We reject the NULL Hypothesis if the p-value associated with each variable $x_i$ is less than 0.05, otherwise we FAIL to reject.\n"
   ]
  },
  {
   "cell_type": "code",
   "execution_count": null,
   "metadata": {
    "colab": {
     "base_uri": "https://localhost:8080/"
    },
    "id": "lyAt7qHIq3YV",
    "outputId": "a7b8c984-1320-472e-aeee-c5237b125c86"
   },
   "outputs": [
    {
     "name": "stdout",
     "output_type": "stream",
     "text": [
      "The p-values associated with  β 0 0.21267528624432186\n",
      "The p-values associated with  β 1 0.00021289377034784766\n",
      "The p-values associated with  β 2 0.9999999741699629\n",
      "The p-values associated with  β 3 4.98877200351433e-07\n",
      "The p-values associated with  β 4 0.002606508243489809\n",
      "The p-values associated with  β 5 0.00206865702825344\n",
      "The p-values associated with  β 6 0.03964287692756139\n",
      "The p-values associated with  β 7 0.0069074433280331094\n",
      "The p-values associated with  β 8 0.1022400935086944\n",
      "The p-values associated with  β 9 0.05042000710811007\n",
      "The p-values associated with  β 10 0.14035790665035405\n",
      "The p-values associated with  β 11 0.26830513117393073\n",
      "The p-values associated with  β 12 0.39740586819648094\n",
      "The p-values associated with  β 13 0.5742123942784021\n",
      "The p-values associated with  β 14 0.7056936981881243\n",
      "The p-values associated with  β 15 0.7852343824907823\n"
     ]
    }
   ],
   "source": [
    "for i in range(0,len(p_values)):\n",
    "  print(\"The p-values associated with \",\"β\",i, p_values[i])"
   ]
  },
  {
   "cell_type": "markdown",
   "metadata": {
    "id": "6QCq38KMq3YV"
   },
   "source": [
    "* Therefore we rejected the NULL hypothesis for $\\beta_1$, $\\beta_3$, $\\beta_4$, $\\beta_5$, $\\beta_6$ and $\\beta_7$ since the p-values associated with those $\\beta$ values are less than 0.05.\n",
    "* We failed to reject the NULL hypothesis for $\\beta_0$, $\\beta_2$, and $\\beta_i$ for $i \\in \\{8,9,...,15\\}$"
   ]
  },
  {
   "cell_type": "markdown",
   "metadata": {
    "id": "610i3Lf7q3YW"
   },
   "source": [
    "##### **Interpreting Results**\n",
    "* The variables with the highest magnitudes of coefficiencies are Q17EDUCATION_29, Q17EDUCATION_28, Q17EDUCATION_26, Q17EDUCATION_27, Q17EDUCATION_25, Q17EDUCATION_24. This means that the people with highest education level have lowest odds of being unemployed.\n",
    "* As one advances from Honors level (Q17EDUCATION_29)  to Masters/PhD level    (Q17EDUCATION_29), the odds of unemployment decrease my a factor of 4\n",
    "* Q17EDUCATION_17, Q17EDUCATION_20, Q17EDUCATION_16 and Q17EDUCATION_15 have positive coefficients meaning that canditates that have this qualifications have odds of being unemployed.\n"
   ]
  },
  {
   "cell_type": "markdown",
   "metadata": {
    "id": "iPCs9n8Aq3YW"
   },
   "source": [
    "##### **Conclusion**"
   ]
  },
  {
   "cell_type": "markdown",
   "metadata": {
    "id": "2c-6qiDXq3YW"
   },
   "source": [
    "* Our analysis indicate that proceeding with education level to a higher level improves the chances of employement.\n",
    "* We accept our assumption that a graduate with a higher national qualification framework (NQF) level is less likely to be unemployed.\n"
   ]
  },
  {
   "cell_type": "markdown",
   "metadata": {
    "id": "AtIY-vkIRpjc"
   },
   "source": [
    "<a name='m4'></a>\n",
    "# **Logistic Regression - Model 4**\n",
    "### **Description of Model 4**\n",
    "\n",
    "* This problem is a binary classification which is defined as $y_i = \\left\\{ \\begin{array}{rcl} 1 & \\text{if unemployed} \\\\ 0 & \\text{if employed}     \\end{array}\\right.$\n",
    "* Model 4 is given by the following logistic function:<br>\n",
    "Let $\\beta=\\left[\\beta_0,\\beta_1, ..., \\beta_8\\right]$ represent a vector of coefficients of the logistic model and $\\textbf{P}$ represent a vector of the variables of the [Province](#province) which indicate the province the candidate is from.<br>\n",
    "Then $\\log(\\text{odds of being unemployed}) = \\beta \\textbf{P}$"
   ]
  },
  {
   "cell_type": "markdown",
   "metadata": {
    "id": "WchRzQwPYaqS"
   },
   "source": [
    "### **Data coding**\n",
    "\n",
    "* We used Dummy encoding to split categories into indicator variables."
   ]
  },
  {
   "cell_type": "code",
   "execution_count": null,
   "metadata": {
    "id": "y3GixuJ7Y7dg"
   },
   "outputs": [],
   "source": [
    "youth4 = youth2[['Province','Status_exp']].copy()\n",
    "#youth4.replace({'Metro_code': {1:'0', 2:'1', 3:'0', 4:'1', 5:'1', 6:'0', 7:'0', 8:'1', 9:'0', 10:'1', \n",
    "#                               11:'0', 12:'0', 13:'1', 14:'1', 15:'1', 16:'0', 17:'0' },'Status_exp':{1:'0',2:'1'}}, inplace=True)"
   ]
  },
  {
   "cell_type": "code",
   "execution_count": null,
   "metadata": {
    "id": "yuhe7vqmYISy"
   },
   "outputs": [],
   "source": [
    "youth4_dm = pd.get_dummies(youth4, columns=['Province','Status_exp'], drop_first=True)\n",
    "youth4_dm.drop(columns='Status_exp_4',axis=1,inplace=True)"
   ]
  },
  {
   "cell_type": "markdown",
   "metadata": {
    "id": "vi6qawuOsnyT"
   },
   "source": [
    "### **Data Splitting**\n",
    "\n",
    "* We first shuffled the dataset.\n",
    "* The data was split into the train (80%) and test(20%) datasets.\n",
    "* We extracted the X and y values from the dataset."
   ]
  },
  {
   "cell_type": "code",
   "execution_count": null,
   "metadata": {
    "id": "9Hzqo235s4h-"
   },
   "outputs": [],
   "source": [
    "#shuffle data\n",
    "#youth4_dm = youth4_dm.sample(frac = 1, random_state=3)\n",
    "from sklearn.model_selection import train_test_split\n",
    "X_train, X_test, y_train, y_test =train_test_split(youth4_dm.drop(labels='Status_exp_2',axis=1),youth4_dm['Status_exp_2'], stratify=youth4_dm['Status_exp_2'], shuffle=True,test_size=0.2, random_state=2)\n",
    "#stratify=youth3['Status_exp_1'], gave me errors and I took it out\n",
    "train_data4 = X_train.copy()\n",
    "train_data4['Status_exp_2'] = y_train\n",
    "test_data4 = X_test.copy()\n",
    "test_data4['Status_exp_2']=y_test"
   ]
  },
  {
   "cell_type": "code",
   "execution_count": null,
   "metadata": {
    "colab": {
     "base_uri": "https://localhost:8080/",
     "height": 204
    },
    "id": "jH-rtd9vx50S",
    "outputId": "d11d3ea0-da9a-463b-c195-bbf26582f6be"
   },
   "outputs": [
    {
     "data": {
      "text/html": [
       "<div>\n",
       "<style scoped>\n",
       "    .dataframe tbody tr th:only-of-type {\n",
       "        vertical-align: middle;\n",
       "    }\n",
       "\n",
       "    .dataframe tbody tr th {\n",
       "        vertical-align: top;\n",
       "    }\n",
       "\n",
       "    .dataframe thead th {\n",
       "        text-align: right;\n",
       "    }\n",
       "</style>\n",
       "<table border=\"1\" class=\"dataframe\">\n",
       "  <thead>\n",
       "    <tr style=\"text-align: right;\">\n",
       "      <th></th>\n",
       "      <th>Province_2</th>\n",
       "      <th>Province_3</th>\n",
       "      <th>Province_4</th>\n",
       "      <th>Province_5</th>\n",
       "      <th>Province_6</th>\n",
       "      <th>Province_7</th>\n",
       "      <th>Province_8</th>\n",
       "      <th>Province_9</th>\n",
       "      <th>Status_exp_2</th>\n",
       "    </tr>\n",
       "  </thead>\n",
       "  <tbody>\n",
       "    <tr>\n",
       "      <th>16385</th>\n",
       "      <td>0</td>\n",
       "      <td>0</td>\n",
       "      <td>0</td>\n",
       "      <td>1</td>\n",
       "      <td>0</td>\n",
       "      <td>0</td>\n",
       "      <td>0</td>\n",
       "      <td>0</td>\n",
       "      <td>1</td>\n",
       "    </tr>\n",
       "    <tr>\n",
       "      <th>32634</th>\n",
       "      <td>0</td>\n",
       "      <td>0</td>\n",
       "      <td>0</td>\n",
       "      <td>1</td>\n",
       "      <td>0</td>\n",
       "      <td>0</td>\n",
       "      <td>0</td>\n",
       "      <td>0</td>\n",
       "      <td>0</td>\n",
       "    </tr>\n",
       "    <tr>\n",
       "      <th>39397</th>\n",
       "      <td>0</td>\n",
       "      <td>0</td>\n",
       "      <td>0</td>\n",
       "      <td>0</td>\n",
       "      <td>0</td>\n",
       "      <td>0</td>\n",
       "      <td>1</td>\n",
       "      <td>0</td>\n",
       "      <td>1</td>\n",
       "    </tr>\n",
       "    <tr>\n",
       "      <th>29752</th>\n",
       "      <td>0</td>\n",
       "      <td>0</td>\n",
       "      <td>0</td>\n",
       "      <td>0</td>\n",
       "      <td>0</td>\n",
       "      <td>1</td>\n",
       "      <td>0</td>\n",
       "      <td>0</td>\n",
       "      <td>0</td>\n",
       "    </tr>\n",
       "    <tr>\n",
       "      <th>36051</th>\n",
       "      <td>0</td>\n",
       "      <td>0</td>\n",
       "      <td>0</td>\n",
       "      <td>0</td>\n",
       "      <td>0</td>\n",
       "      <td>1</td>\n",
       "      <td>0</td>\n",
       "      <td>0</td>\n",
       "      <td>0</td>\n",
       "    </tr>\n",
       "  </tbody>\n",
       "</table>\n",
       "</div>"
      ],
      "text/plain": [
       "       Province_2  Province_3  Province_4  ...  Province_8  Province_9  Status_exp_2\n",
       "16385           0           0           0  ...           0           0             1\n",
       "32634           0           0           0  ...           0           0             0\n",
       "39397           0           0           0  ...           1           0             1\n",
       "29752           0           0           0  ...           0           0             0\n",
       "36051           0           0           0  ...           0           0             0\n",
       "\n",
       "[5 rows x 9 columns]"
      ]
     },
     "execution_count": 57,
     "metadata": {
      "tags": []
     },
     "output_type": "execute_result"
    }
   ],
   "source": [
    "train_data4.head()"
   ]
  },
  {
   "cell_type": "markdown",
   "metadata": {
    "id": "KQLFV01NVGpi"
   },
   "source": [
    "### **Initial Modelling - Model 4**\n",
    "\n",
    "* For the initial model we fitted the model with none of the variables and used used the Forward Selection Stepwise regression to identify variables that we could recursively add to the initial model.\n",
    "* The initial model only contained the intercept. \n",
    "* To measure model fit, we used the Pseudo R Squared.\n",
    "* The initial model fit Psuedo R Squared scored was 1.339e-10.\n"
   ]
  },
  {
   "cell_type": "code",
   "execution_count": null,
   "metadata": {
    "colab": {
     "base_uri": "https://localhost:8080/"
    },
    "id": "mYT1k7rcVWg9",
    "outputId": "48b3dfff-62a2-4eff-8388-fd510556445d"
   },
   "outputs": [
    {
     "name": "stdout",
     "output_type": "stream",
     "text": [
      "Optimization terminated successfully.\n",
      "         Current function value: 0.673610\n",
      "         Iterations 4\n",
      "                           Logit Regression Results                           \n",
      "==============================================================================\n",
      "Dep. Variable:           Status_exp_2   No. Observations:                 3634\n",
      "Model:                          Logit   Df Residuals:                     3633\n",
      "Method:                           MLE   Df Model:                            0\n",
      "Date:                Mon, 21 Jun 2021   Pseudo R-squ.:               1.339e-10\n",
      "Time:                        21:19:11   Log-Likelihood:                -2447.9\n",
      "converged:                       True   LL-Null:                       -2447.9\n",
      "Covariance Type:            nonrobust   LLR p-value:                       nan\n",
      "==============================================================================\n",
      "                 coef    std err          z      P>|z|      [0.025      0.975]\n",
      "------------------------------------------------------------------------------\n",
      "Intercept     -0.3993      0.034    -11.799      0.000      -0.466      -0.333\n",
      "==============================================================================\n"
     ]
    }
   ],
   "source": [
    "model4 = smf.logit(formula='Status_exp_2 ~ 1', data=train_data4).fit()\n",
    "print(model4.summary())"
   ]
  },
  {
   "cell_type": "markdown",
   "metadata": {
    "id": "K8nYZNgdnKBK"
   },
   "source": [
    "#### **Stepwise Regression for model 4**\n",
    "* To test if the model improves, we used the Forward Selection Stepwise regression.\n",
    "* Higher Pseudo R Squared values were obtained as we added each variable indicating better model fit.\n",
    "* The Forward Selection Stepwise regression retained all the variables.\n",
    "* It implies that as we add subsequent variables after starting with the intercept, the estimated performance of the model keeps on improving.\n",
    "* The final Pseudo R Square score was 0.03006 which is better than the score for the initial model."
   ]
  },
  {
   "cell_type": "code",
   "execution_count": null,
   "metadata": {
    "colab": {
     "base_uri": "https://localhost:8080/"
    },
    "id": "aP05aku7nQ0W",
    "outputId": "39da72b3-17bf-40c9-aa83-3ca46012161e"
   },
   "outputs": [
    {
     "name": "stdout",
     "output_type": "stream",
     "text": [
      "                           Logit Regression Results                           \n",
      "==============================================================================\n",
      "Dep. Variable:           Status_exp_2   No. Observations:                 3634\n",
      "Model:                          Logit   Df Residuals:                     3625\n",
      "Method:                           MLE   Df Model:                            8\n",
      "Date:                Mon, 21 Jun 2021   Pseudo R-squ.:                 0.03006\n",
      "Time:                        21:19:13   Log-Likelihood:                -2374.3\n",
      "converged:                       True   LL-Null:                       -2447.9\n",
      "Covariance Type:            nonrobust   LLR p-value:                 7.607e-28\n",
      "==============================================================================\n",
      "                 coef    std err          z      P>|z|      [0.025      0.975]\n",
      "------------------------------------------------------------------------------\n",
      "Intercept     -1.4157      0.136    -10.395      0.000      -1.683      -1.149\n",
      "Province_9     1.6172      0.162      9.963      0.000       1.299       1.935\n",
      "Province_8     1.3780      0.176      7.810      0.000       1.032       1.724\n",
      "Province_5     1.2570      0.164      7.659      0.000       0.935       1.579\n",
      "Province_2     1.0466      0.183      5.705      0.000       0.687       1.406\n",
      "Province_7     0.8470      0.149      5.692      0.000       0.555       1.139\n",
      "Province_4     0.9648      0.194      4.977      0.000       0.585       1.345\n",
      "Province_6     1.0201      0.208      4.910      0.000       0.613       1.427\n",
      "Province_3     0.4041      0.259      1.558      0.119      -0.104       0.912\n",
      "==============================================================================\n"
     ]
    }
   ],
   "source": [
    "new_model4 = forward_selected(train_data4,'Status_exp_2')\n",
    "print(new_model4.summary())"
   ]
  },
  {
   "cell_type": "markdown",
   "metadata": {
    "id": "LrnOvopJpQJf"
   },
   "source": [
    "#### **Binned Residual Analysis**\n",
    "\n",
    "* The orange lines represent ± 2 Standard Error (SE) bands, and as expected they contain over 90% of the observations i.e 28 out of 28 binned observations are inside of the SE bands. \n",
    "* This model looks reasonable as there are no patterns and also the majority of the fitted values seem to fall within the SE bands. "
   ]
  },
  {
   "cell_type": "code",
   "execution_count": null,
   "metadata": {
    "colab": {
     "base_uri": "https://localhost:8080/",
     "height": 627
    },
    "id": "AGuHs0UhpXll",
    "outputId": "28dbb9d8-a99a-4e5b-982c-6184adec92d3"
   },
   "outputs": [
    {
     "data": {
      "image/png": "[encoded data removed]",
      "text/plain": [
       "<Figure size 1080x720 with 1 Axes>"
      ]
     },
     "metadata": {
      "needs_background": "light",
      "tags": []
     },
     "output_type": "display_data"
    }
   ],
   "source": [
    "fitted_resids = bin_residuals(new_model4.resid_response,new_model4.fittedvalues, 40)\n",
    "\n",
    "plt.figure(figsize = (15, 10))\n",
    "plt.title('Binned Residual Plot for the Fitted Values')\n",
    "plt.ylabel('Average Residuals')\n",
    "plt.xlabel('Expected Values')\n",
    "plot_binned_residuals(fitted_resids)\n",
    "plt.show()"
   ]
  },
  {
   "cell_type": "markdown",
   "metadata": {
    "id": "HpkxUnwT0zWK"
   },
   "source": [
    "#### **Model Evaluation**\n",
    "* We used the test set to evaluate the performance of the model.\n",
    "* The accuracy was 60%\n",
    "* The model was able to classify the unemployed class better than the employed class since there was class imbalance."
   ]
  },
  {
   "cell_type": "code",
   "execution_count": null,
   "metadata": {
    "colab": {
     "base_uri": "https://localhost:8080/",
     "height": 302
    },
    "id": "s93J_es80y2F",
    "outputId": "99e05c69-0c61-4d05-b175-51d2b9fdac3d"
   },
   "outputs": [
    {
     "name": "stdout",
     "output_type": "stream",
     "text": [
      "accuracy : 0.6039603960396039\n"
     ]
    },
    {
     "data": {
      "image/png": "[encoded data removed]",
      "text/plain": [
       "<Figure size 432x288 with 2 Axes>"
      ]
     },
     "metadata": {
      "needs_background": "light",
      "tags": []
     },
     "output_type": "display_data"
    }
   ],
   "source": [
    "#predictions4 = new_model4.predict(test_data4.drop(labels='Status_exp_1', axis=1))\n",
    "predictions4 = new_model4.predict(X_test)\n",
    "from sklearn.metrics import mean_squared_error,ConfusionMatrixDisplay, confusion_matrix, accuracy_score, mean_absolute_error\n",
    "prediction4 = list(map(round, predictions4))\n",
    "#cm = confusion_matrix(test_data4.Status_exp_1, prediction4)\n",
    "cm = confusion_matrix(y_test, prediction4)\n",
    "disp = ConfusionMatrixDisplay(confusion_matrix=cm,display_labels=['unemployed (1)','employed (0)'])\n",
    "disp.plot(values_format='');\n",
    "print(\"accuracy :\",accuracy_score(prediction4, test_data4.Status_exp_2))"
   ]
  },
  {
   "cell_type": "markdown",
   "metadata": {
    "id": "ncObWbYDoZHF"
   },
   "source": [
    "<a name='mf'></a>\n",
    "#### **Hypothesis Testing**"
   ]
  },
  {
   "cell_type": "markdown",
   "metadata": {
    "id": "4WXADlUxoZHL"
   },
   "source": [
    "##### **Contructing the Hypothesis**\n",
    "\n",
    "* $H_0: \\beta_i = 0$ $\\forall i \\in \\{0,1,...,8\\}$<br>\n",
    "  * The Null Hypothesis states that the coefficient of each independent variable and the intercept is zero.  \n",
    "  * It implies that each independent variable is insignificant to the Logistic Regression Model.\n",
    "\n",
    "* $H_1: \\beta_i \\neq 0$ $\\forall i \\in \\{0,1,...,8\\}$\n",
    "* **Appropriateness of Test**: We chose this test since we wanted to check if each variable affects youth unemployment."
   ]
  },
  {
   "cell_type": "markdown",
   "metadata": {
    "id": "ycZSLhBjoZHL"
   },
   "source": [
    "##### **Test Statistic**\n",
    "* For the test statistics, we used the Wald $\\chi^2$ statistics that are used to test the significance of individual coefficients in the model.\n",
    "* Each Wald statistic is compared with a $\\chi^2$ distribution with 1 degree of freedom"
   ]
  },
  {
   "cell_type": "markdown",
   "metadata": {
    "id": "Xl-y5niroZHM"
   },
   "source": [
    "##### **Determine the p-value**\n",
    "* We used the p-values from the summary table above"
   ]
  },
  {
   "cell_type": "code",
   "execution_count": null,
   "metadata": {
    "id": "swEpIsG-oZHM"
   },
   "outputs": [],
   "source": [
    "p_values = new_model4.pvalues.to_numpy()"
   ]
  },
  {
   "cell_type": "markdown",
   "metadata": {
    "id": "46eVvtLhoZHM"
   },
   "source": [
    "##### **Setting the threshold**\n",
    "*  To determine the statistical significance of the p-value, we set the threshold to 5%"
   ]
  },
  {
   "cell_type": "markdown",
   "metadata": {
    "id": "lDxeQVZRoZHM"
   },
   "source": [
    "##### **Evaluation of the test**\n",
    "* We reject the NULL Hypothesis if the p-value associated with each variable $x_i$ is less than 0.05, otherwise we FAIL to reject.\n"
   ]
  },
  {
   "cell_type": "code",
   "execution_count": null,
   "metadata": {
    "colab": {
     "base_uri": "https://localhost:8080/"
    },
    "id": "jxlZCwoEoZHN",
    "outputId": "9dbbd978-87d8-42e0-c3a7-abf2db93a9af"
   },
   "outputs": [
    {
     "name": "stdout",
     "output_type": "stream",
     "text": [
      "The p-values associated with  β 0 2.616709590521713e-25\n",
      "The p-values associated with  β 1 2.223556765911557e-23\n",
      "The p-values associated with  β 2 5.729455713576328e-15\n",
      "The p-values associated with  β 3 1.8677116388015257e-14\n",
      "The p-values associated with  β 4 1.160097685534422e-08\n",
      "The p-values associated with  β 5 1.255507833119961e-08\n",
      "The p-values associated with  β 6 6.472954922048489e-07\n",
      "The p-values associated with  β 7 9.085836893088722e-07\n",
      "The p-values associated with  β 8 0.11916217504066401\n"
     ]
    }
   ],
   "source": [
    "for i in range(0,len(p_values)):\n",
    "  print(\"The p-values associated with \",\"β\",i, p_values[i])"
   ]
  },
  {
   "cell_type": "markdown",
   "metadata": {
    "id": "LePMvMygoZHO"
   },
   "source": [
    "* Therefore we rejected the NULL hypothesis for $\\beta_i$ for $i \\in \\{0,1,...,7\\}$ since the p-values associated with those $\\beta$ values are less than 0.05.\n",
    "* We failed to reject the NULL hypothesis for $\\beta_8$"
   ]
  },
  {
   "cell_type": "code",
   "execution_count": null,
   "metadata": {
    "colab": {
     "base_uri": "https://localhost:8080/"
    },
    "id": "pByD3-2Qp6ot",
    "outputId": "1ac457f0-f8eb-48aa-b694-26b932b57195"
   },
   "outputs": [
    {
     "name": "stdout",
     "output_type": "stream",
     "text": [
      "                           Logit Regression Results                           \n",
      "==============================================================================\n",
      "Dep. Variable:           Status_exp_2   No. Observations:                 3634\n",
      "Model:                          Logit   Df Residuals:                     3625\n",
      "Method:                           MLE   Df Model:                            8\n",
      "Date:                Mon, 21 Jun 2021   Pseudo R-squ.:                 0.03006\n",
      "Time:                        21:19:14   Log-Likelihood:                -2374.3\n",
      "converged:                       True   LL-Null:                       -2447.9\n",
      "Covariance Type:            nonrobust   LLR p-value:                 7.607e-28\n",
      "==============================================================================\n",
      "                 coef    std err          z      P>|z|      [0.025      0.975]\n",
      "------------------------------------------------------------------------------\n",
      "Intercept     -1.4157      0.136    -10.395      0.000      -1.683      -1.149\n",
      "Province_9     1.6172      0.162      9.963      0.000       1.299       1.935\n",
      "Province_8     1.3780      0.176      7.810      0.000       1.032       1.724\n",
      "Province_5     1.2570      0.164      7.659      0.000       0.935       1.579\n",
      "Province_2     1.0466      0.183      5.705      0.000       0.687       1.406\n",
      "Province_7     0.8470      0.149      5.692      0.000       0.555       1.139\n",
      "Province_4     0.9648      0.194      4.977      0.000       0.585       1.345\n",
      "Province_6     1.0201      0.208      4.910      0.000       0.613       1.427\n",
      "Province_3     0.4041      0.259      1.558      0.119      -0.104       0.912\n",
      "==============================================================================\n"
     ]
    }
   ],
   "source": [
    "print(new_model4.summary())"
   ]
  },
  {
   "cell_type": "markdown",
   "metadata": {
    "id": "2x3AK25foZHQ"
   },
   "source": [
    "##### **Interpreting Results**\n",
    "* The variables with the highest magnitudes of coefficiencies are Province_9, Province_8, Province_5, Province_2, Province_6. This means that the people living in these provinces have highest odds of being unemployment.\n",
    "* All the coefficients are positive, as you move from  Western Cape, Eastern Cape, Northern Cape, Free State, KwaZulu-Natal, North West, Gauteng, Mpumalanga to Limpopo log of the odds ratio of being unemployed keep on increasing.\n",
    "\n"
   ]
  },
  {
   "cell_type": "markdown",
   "metadata": {
    "id": "YwanEXrLoZHQ"
   },
   "source": [
    "##### **Conclusion**\n",
    "* Our analysis indicates that the Western Cape and Northern Cape provinces have the best chances of employment. Limpopo has the worst chances of employment.\n",
    "* We accept our assumption that a graduate might need to migrate to certain provinces to increase her/his chances of employment.\n"
   ]
  },
  {
   "cell_type": "markdown",
   "metadata": {
    "id": "svwkk8NLfZKr"
   },
   "source": [
    "# **Next Steps**\n",
    "* To improve the models, we might need to increase the data samples.\n",
    "* Instead of only measuring the effects of study choices and demographics, we might need to also measure the effects of macro economic trends like the Covid Pandemic, Global Financial Crisis and Political issues."
   ]
  },
  {
   "cell_type": "code",
   "execution_count": null,
   "metadata": {
    "id": "b18i6xoVflAJ"
   },
   "outputs": [],
   "source": []
  }
 ],
 "metadata": {
  "colab": {
   "collapsed_sections": [
    "Pc0OzZVq0AdR",
    "mQOgbCrpkNs8",
    "virM98XXrQJK",
    "ytUs9bmV1fdr",
    "SDU_heGI42CL",
    "9O8M8Sxl2IVk",
    "hIdvJPCMEj5H"
   ],
   "name": "DAE Project - Let Data Speak.ipynb",
   "provenance": []
  },
  "kernelspec": {
   "display_name": "Python 3",
   "language": "python",
   "name": "python3"
  },
  "language_info": {
   "codemirror_mode": {
    "name": "ipython",
    "version": 3
   },
   "file_extension": ".py",
   "mimetype": "text/x-python",
   "name": "python",
   "nbconvert_exporter": "python",
   "pygments_lexer": "ipython3",
   "version": "3.7.4"
  }
 },
 "nbformat": 4,
 "nbformat_minor": 1
}
